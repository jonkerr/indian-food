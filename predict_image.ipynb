{
 "cells": [
  {
   "cell_type": "markdown",
   "metadata": {},
   "source": [
    "### Import the model and make an instance of the class"
   ]
  },
  {
   "cell_type": "code",
   "execution_count": 1,
   "metadata": {},
   "outputs": [],
   "source": [
    "from cv_predict import TastyFoodPredictor\n",
    "tasty_model = TastyFoodPredictor()\n"
   ]
  },
  {
   "cell_type": "markdown",
   "metadata": {},
   "source": [
    "### Predict on some sample images"
   ]
  },
  {
   "cell_type": "code",
   "execution_count": 2,
   "metadata": {},
   "outputs": [
    {
     "name": "stdout",
     "output_type": "stream",
     "text": [
      "Predicted: chole_bhature, Actual: chole_bhature\n",
      "Predicted: momos, Actual: momos\n",
      "Predicted: fried_rice, Actual: fried_rice\n",
      "Predicted: masala_dosa, Actual: masala_dosa\n"
     ]
    }
   ],
   "source": [
    "\n",
    "# run a little test\n",
    "img_dct = {\n",
    "    'chole_bhature' : 'data/Food_Classification/chole_bhature/002.jpg',\n",
    "    'momos' : 'data/Food_Classification/momos/002.jpg',\n",
    "    'fried_rice' : 'data/Food_Classification/fried_rice/002.jpg',\n",
    "    'masala_dosa' : 'data/Food_Classification/masala_dosa/002.jpg',\n",
    "}\n",
    "\n",
    "for label, path in img_dct.items():\n",
    "    pred = tasty_model.predict(path)\n",
    "    print(f'Predicted: {pred}, Actual: {label}')"
   ]
  },
  {
   "cell_type": "markdown",
   "metadata": {},
   "source": [
    "### Note, this model is only trained on 20 dishes.  See below for what's supported"
   ]
  },
  {
   "cell_type": "code",
   "execution_count": 3,
   "metadata": {},
   "outputs": [
    {
     "name": "stdout",
     "output_type": "stream",
     "text": [
      "burger\n",
      "butter_naan\n",
      "chai\n",
      "chapati\n",
      "chole_bhature\n",
      "dal_makhani\n",
      "dhokla\n",
      "fried_rice\n",
      "idli\n",
      "jalebi\n",
      "kaathi_rolls\n",
      "kadai_paneer\n",
      "kulfi\n",
      "masala_dosa\n",
      "momos\n",
      "paani_puri\n",
      "pakode\n",
      "pav_bhaji\n",
      "pizza\n",
      "samosa\n"
     ]
    }
   ],
   "source": [
    "# Foods the model is able to predict\n",
    "from image_prep import get_label_mapping\n",
    "dct = get_label_mapping()\n",
    "for val in dct.values():\n",
    "    print(val)"
   ]
  }
 ],
 "metadata": {
  "kernelspec": {
   "display_name": "Tasty_AI",
   "language": "python",
   "name": "python3"
  },
  "language_info": {
   "codemirror_mode": {
    "name": "ipython",
    "version": 3
   },
   "file_extension": ".py",
   "mimetype": "text/x-python",
   "name": "python",
   "nbconvert_exporter": "python",
   "pygments_lexer": "ipython3",
   "version": "3.9.7"
  }
 },
 "nbformat": 4,
 "nbformat_minor": 2
}
