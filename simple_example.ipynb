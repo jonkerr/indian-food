{
 "cells": [
  {
   "cell_type": "markdown",
   "metadata": {},
   "source": [
    "### Version 1 - High Level Overview"
   ]
  },
  {
   "cell_type": "code",
   "execution_count": 4,
   "metadata": {},
   "outputs": [],
   "source": [
    "from image_prep import get_img_df, train_val_test_split\n",
    "from image_gen import get_gen_from_df"
   ]
  },
  {
   "cell_type": "code",
   "execution_count": 5,
   "metadata": {},
   "outputs": [
    {
     "data": {
      "text/plain": [
       "20"
      ]
     },
     "execution_count": 5,
     "metadata": {},
     "output_type": "execute_result"
    }
   ],
   "source": [
    "fc_path = \"data/Food_Classification/\"\n",
    "\n",
    "# get df\n",
    "df_fc = get_img_df(fc_path)\n",
    "\n",
    "num_classes = len(df_fc['label'].unique())\n",
    "num_classes"
   ]
  },
  {
   "cell_type": "code",
   "execution_count": 6,
   "metadata": {},
   "outputs": [],
   "source": [
    "# split dfs\n",
    "train, validate, test = train_val_test_split(df_fc, test_size=0.2, val_size=0.2)"
   ]
  },
  {
   "cell_type": "code",
   "execution_count": 7,
   "metadata": {},
   "outputs": [
    {
     "name": "stdout",
     "output_type": "stream",
     "text": [
      "Found 3587 validated image filenames belonging to 20 classes.\n",
      "Found 1197 validated image filenames belonging to 20 classes.\n"
     ]
    },
    {
     "name": "stderr",
     "output_type": "stream",
     "text": [
      "c:\\Users\\Jon\\miniconda3\\envs\\Tasty_AI\\lib\\site-packages\\keras\\preprocessing\\image.py:1139: UserWarning: Found 2 invalid image filename(s) in x_col=\"path\". These filename(s) will be ignored.\n",
      "  warnings.warn(\n"
     ]
    }
   ],
   "source": [
    "train_gen = get_gen_from_df(train)\n",
    "validate_gen = get_gen_from_df(validate, train=False)"
   ]
  },
  {
   "cell_type": "markdown",
   "metadata": {},
   "source": [
    "The following model is probably not the final model we want to use but just needed something to test and end to end flow.  \n",
    "\n",
    "This particular architecture was borrowed from the Jupyter notebook found: https://www.kaggle.com/code/varsha300/transferlearning\n"
   ]
  },
  {
   "cell_type": "code",
   "execution_count": 8,
   "metadata": {},
   "outputs": [
    {
     "ename": "KeyboardInterrupt",
     "evalue": "",
     "output_type": "error",
     "traceback": [
      "\u001b[1;31m---------------------------------------------------------------------------\u001b[0m",
      "\u001b[1;31mKeyboardInterrupt\u001b[0m                         Traceback (most recent call last)",
      "Cell \u001b[1;32mIn[8], line 12\u001b[0m\n\u001b[0;32m      8\u001b[0m IMG_SIZE \u001b[38;5;241m=\u001b[39m (\u001b[38;5;241m224\u001b[39m, \u001b[38;5;241m224\u001b[39m)  \u001b[38;5;66;03m# VGG16 default image size\u001b[39;00m\n\u001b[0;32m     10\u001b[0m \u001b[38;5;66;03m# model\u001b[39;00m\n\u001b[1;32m---> 12\u001b[0m base_model \u001b[38;5;241m=\u001b[39m \u001b[43mVGG16\u001b[49m\u001b[43m(\u001b[49m\u001b[43mweights\u001b[49m\u001b[38;5;241;43m=\u001b[39;49m\u001b[38;5;124;43m'\u001b[39;49m\u001b[38;5;124;43mimagenet\u001b[39;49m\u001b[38;5;124;43m'\u001b[39;49m\u001b[43m,\u001b[49m\u001b[43m \u001b[49m\u001b[43minclude_top\u001b[49m\u001b[38;5;241;43m=\u001b[39;49m\u001b[38;5;28;43;01mFalse\u001b[39;49;00m\u001b[43m,\u001b[49m\u001b[43m \u001b[49m\u001b[43minput_tensor\u001b[49m\u001b[38;5;241;43m=\u001b[39;49m\u001b[43mInput\u001b[49m\u001b[43m(\u001b[49m\u001b[43mshape\u001b[49m\u001b[38;5;241;43m=\u001b[39;49m\u001b[43m(\u001b[49m\u001b[43mIMG_SIZE\u001b[49m\u001b[43m[\u001b[49m\u001b[38;5;241;43m0\u001b[39;49m\u001b[43m]\u001b[49m\u001b[43m,\u001b[49m\u001b[43m \u001b[49m\u001b[43mIMG_SIZE\u001b[49m\u001b[43m[\u001b[49m\u001b[38;5;241;43m1\u001b[39;49m\u001b[43m]\u001b[49m\u001b[43m,\u001b[49m\u001b[43m \u001b[49m\u001b[38;5;241;43m3\u001b[39;49m\u001b[43m)\u001b[49m\u001b[43m)\u001b[49m\u001b[43m)\u001b[49m\n\u001b[0;32m     13\u001b[0m \u001b[38;5;66;03m# Freeze base model layers and unfreeze the last 4 layers\u001b[39;00m\n\u001b[0;32m     14\u001b[0m \u001b[38;5;28;01mfor\u001b[39;00m layer \u001b[38;5;129;01min\u001b[39;00m base_model\u001b[38;5;241m.\u001b[39mlayers[:\u001b[38;5;241m-\u001b[39m\u001b[38;5;241m4\u001b[39m]:\n",
      "File \u001b[1;32mc:\\Users\\Jon\\miniconda3\\envs\\Tasty_AI\\lib\\site-packages\\keras\\applications\\vgg16.py:248\u001b[0m, in \u001b[0;36mVGG16\u001b[1;34m(include_top, weights, input_tensor, input_shape, pooling, classes, classifier_activation)\u001b[0m\n\u001b[0;32m    241\u001b[0m     \u001b[38;5;28;01melse\u001b[39;00m:\n\u001b[0;32m    242\u001b[0m         weights_path \u001b[38;5;241m=\u001b[39m data_utils\u001b[38;5;241m.\u001b[39mget_file(\n\u001b[0;32m    243\u001b[0m             \u001b[38;5;124m\"\u001b[39m\u001b[38;5;124mvgg16_weights_tf_dim_ordering_tf_kernels_notop.h5\u001b[39m\u001b[38;5;124m\"\u001b[39m,\n\u001b[0;32m    244\u001b[0m             WEIGHTS_PATH_NO_TOP,\n\u001b[0;32m    245\u001b[0m             cache_subdir\u001b[38;5;241m=\u001b[39m\u001b[38;5;124m\"\u001b[39m\u001b[38;5;124mmodels\u001b[39m\u001b[38;5;124m\"\u001b[39m,\n\u001b[0;32m    246\u001b[0m             file_hash\u001b[38;5;241m=\u001b[39m\u001b[38;5;124m\"\u001b[39m\u001b[38;5;124m6d6bbae143d832006294945121d1f1fc\u001b[39m\u001b[38;5;124m\"\u001b[39m,\n\u001b[0;32m    247\u001b[0m         )\n\u001b[1;32m--> 248\u001b[0m     \u001b[43mmodel\u001b[49m\u001b[38;5;241;43m.\u001b[39;49m\u001b[43mload_weights\u001b[49m\u001b[43m(\u001b[49m\u001b[43mweights_path\u001b[49m\u001b[43m)\u001b[49m\n\u001b[0;32m    249\u001b[0m \u001b[38;5;28;01melif\u001b[39;00m weights \u001b[38;5;129;01mis\u001b[39;00m \u001b[38;5;129;01mnot\u001b[39;00m \u001b[38;5;28;01mNone\u001b[39;00m:\n\u001b[0;32m    250\u001b[0m     model\u001b[38;5;241m.\u001b[39mload_weights(weights)\n",
      "File \u001b[1;32mc:\\Users\\Jon\\miniconda3\\envs\\Tasty_AI\\lib\\site-packages\\keras\\utils\\traceback_utils.py:65\u001b[0m, in \u001b[0;36mfilter_traceback.<locals>.error_handler\u001b[1;34m(*args, **kwargs)\u001b[0m\n\u001b[0;32m     63\u001b[0m filtered_tb \u001b[38;5;241m=\u001b[39m \u001b[38;5;28;01mNone\u001b[39;00m\n\u001b[0;32m     64\u001b[0m \u001b[38;5;28;01mtry\u001b[39;00m:\n\u001b[1;32m---> 65\u001b[0m     \u001b[38;5;28;01mreturn\u001b[39;00m fn(\u001b[38;5;241m*\u001b[39margs, \u001b[38;5;241m*\u001b[39m\u001b[38;5;241m*\u001b[39mkwargs)\n\u001b[0;32m     66\u001b[0m \u001b[38;5;28;01mexcept\u001b[39;00m \u001b[38;5;167;01mException\u001b[39;00m \u001b[38;5;28;01mas\u001b[39;00m e:\n\u001b[0;32m     67\u001b[0m     filtered_tb \u001b[38;5;241m=\u001b[39m _process_traceback_frames(e\u001b[38;5;241m.\u001b[39m__traceback__)\n",
      "File \u001b[1;32mc:\\Users\\Jon\\miniconda3\\envs\\Tasty_AI\\lib\\site-packages\\keras\\engine\\training.py:2939\u001b[0m, in \u001b[0;36mModel.load_weights\u001b[1;34m(self, filepath, by_name, skip_mismatch, options)\u001b[0m\n\u001b[0;32m   2935\u001b[0m             hdf5_format\u001b[38;5;241m.\u001b[39mload_weights_from_hdf5_group_by_name(\n\u001b[0;32m   2936\u001b[0m                 f, \u001b[38;5;28mself\u001b[39m, skip_mismatch\n\u001b[0;32m   2937\u001b[0m             )\n\u001b[0;32m   2938\u001b[0m         \u001b[38;5;28;01melse\u001b[39;00m:\n\u001b[1;32m-> 2939\u001b[0m             \u001b[43mhdf5_format\u001b[49m\u001b[38;5;241;43m.\u001b[39;49m\u001b[43mload_weights_from_hdf5_group\u001b[49m\u001b[43m(\u001b[49m\u001b[43mf\u001b[49m\u001b[43m,\u001b[49m\u001b[43m \u001b[49m\u001b[38;5;28;43mself\u001b[39;49m\u001b[43m)\u001b[49m\n\u001b[0;32m   2941\u001b[0m \u001b[38;5;66;03m# Perform any layer defined finalization of the layer state.\u001b[39;00m\n\u001b[0;32m   2942\u001b[0m \u001b[38;5;28;01mfor\u001b[39;00m layer \u001b[38;5;129;01min\u001b[39;00m \u001b[38;5;28mself\u001b[39m\u001b[38;5;241m.\u001b[39mlayers:\n",
      "File \u001b[1;32mc:\\Users\\Jon\\miniconda3\\envs\\Tasty_AI\\lib\\site-packages\\keras\\saving\\hdf5_format.py:858\u001b[0m, in \u001b[0;36mload_weights_from_hdf5_group\u001b[1;34m(f, model)\u001b[0m\n\u001b[0;32m    851\u001b[0m         \u001b[38;5;28;01mraise\u001b[39;00m \u001b[38;5;167;01mValueError\u001b[39;00m(\n\u001b[0;32m    852\u001b[0m             \u001b[38;5;124mf\u001b[39m\u001b[38;5;124m\"\u001b[39m\u001b[38;5;124mWeight count mismatch for top-level weights when loading \u001b[39m\u001b[38;5;124m\"\u001b[39m\n\u001b[0;32m    853\u001b[0m             \u001b[38;5;124mf\u001b[39m\u001b[38;5;124m\"\u001b[39m\u001b[38;5;124mweights from file. \u001b[39m\u001b[38;5;124m\"\u001b[39m\n\u001b[0;32m    854\u001b[0m             \u001b[38;5;124mf\u001b[39m\u001b[38;5;124m\"\u001b[39m\u001b[38;5;124mModel expects \u001b[39m\u001b[38;5;132;01m{\u001b[39;00m\u001b[38;5;28mlen\u001b[39m(symbolic_weights)\u001b[38;5;132;01m}\u001b[39;00m\u001b[38;5;124m top-level weight(s). \u001b[39m\u001b[38;5;124m\"\u001b[39m\n\u001b[0;32m    855\u001b[0m             \u001b[38;5;124mf\u001b[39m\u001b[38;5;124m\"\u001b[39m\u001b[38;5;124mReceived \u001b[39m\u001b[38;5;132;01m{\u001b[39;00m\u001b[38;5;28mlen\u001b[39m(weight_values)\u001b[38;5;132;01m}\u001b[39;00m\u001b[38;5;124m saved top-level weight(s)\u001b[39m\u001b[38;5;124m\"\u001b[39m\n\u001b[0;32m    856\u001b[0m         )\n\u001b[0;32m    857\u001b[0m     weight_value_tuples \u001b[38;5;241m+\u001b[39m\u001b[38;5;241m=\u001b[39m \u001b[38;5;28mzip\u001b[39m(symbolic_weights, weight_values)\n\u001b[1;32m--> 858\u001b[0m \u001b[43mbackend\u001b[49m\u001b[38;5;241;43m.\u001b[39;49m\u001b[43mbatch_set_value\u001b[49m\u001b[43m(\u001b[49m\u001b[43mweight_value_tuples\u001b[49m\u001b[43m)\u001b[49m\n\u001b[0;32m    860\u001b[0m \u001b[38;5;66;03m# Perform any layer defined finalization of the layer state.\u001b[39;00m\n\u001b[0;32m    861\u001b[0m \u001b[38;5;28;01mfor\u001b[39;00m layer \u001b[38;5;129;01min\u001b[39;00m model\u001b[38;5;241m.\u001b[39m_flatten_layers():\n",
      "File \u001b[1;32mc:\\Users\\Jon\\miniconda3\\envs\\Tasty_AI\\lib\\site-packages\\tensorflow\\python\\util\\traceback_utils.py:150\u001b[0m, in \u001b[0;36mfilter_traceback.<locals>.error_handler\u001b[1;34m(*args, **kwargs)\u001b[0m\n\u001b[0;32m    148\u001b[0m filtered_tb \u001b[38;5;241m=\u001b[39m \u001b[38;5;28;01mNone\u001b[39;00m\n\u001b[0;32m    149\u001b[0m \u001b[38;5;28;01mtry\u001b[39;00m:\n\u001b[1;32m--> 150\u001b[0m   \u001b[38;5;28;01mreturn\u001b[39;00m fn(\u001b[38;5;241m*\u001b[39margs, \u001b[38;5;241m*\u001b[39m\u001b[38;5;241m*\u001b[39mkwargs)\n\u001b[0;32m    151\u001b[0m \u001b[38;5;28;01mexcept\u001b[39;00m \u001b[38;5;167;01mException\u001b[39;00m \u001b[38;5;28;01mas\u001b[39;00m e:\n\u001b[0;32m    152\u001b[0m   filtered_tb \u001b[38;5;241m=\u001b[39m _process_traceback_frames(e\u001b[38;5;241m.\u001b[39m__traceback__)\n",
      "File \u001b[1;32mc:\\Users\\Jon\\miniconda3\\envs\\Tasty_AI\\lib\\site-packages\\tensorflow\\python\\util\\dispatch.py:1176\u001b[0m, in \u001b[0;36madd_dispatch_support.<locals>.decorator.<locals>.op_dispatch_handler\u001b[1;34m(*args, **kwargs)\u001b[0m\n\u001b[0;32m   1174\u001b[0m \u001b[38;5;66;03m# Fallback dispatch system (dispatch v1):\u001b[39;00m\n\u001b[0;32m   1175\u001b[0m \u001b[38;5;28;01mtry\u001b[39;00m:\n\u001b[1;32m-> 1176\u001b[0m   \u001b[38;5;28;01mreturn\u001b[39;00m dispatch_target(\u001b[38;5;241m*\u001b[39margs, \u001b[38;5;241m*\u001b[39m\u001b[38;5;241m*\u001b[39mkwargs)\n\u001b[0;32m   1177\u001b[0m \u001b[38;5;28;01mexcept\u001b[39;00m (\u001b[38;5;167;01mTypeError\u001b[39;00m, \u001b[38;5;167;01mValueError\u001b[39;00m):\n\u001b[0;32m   1178\u001b[0m   \u001b[38;5;66;03m# Note: convert_to_eager_tensor currently raises a ValueError, not a\u001b[39;00m\n\u001b[0;32m   1179\u001b[0m   \u001b[38;5;66;03m# TypeError, when given unexpected types.  So we need to catch both.\u001b[39;00m\n\u001b[0;32m   1180\u001b[0m   result \u001b[38;5;241m=\u001b[39m dispatch(op_dispatch_handler, args, kwargs)\n",
      "File \u001b[1;32mc:\\Users\\Jon\\miniconda3\\envs\\Tasty_AI\\lib\\site-packages\\keras\\backend.py:4302\u001b[0m, in \u001b[0;36mbatch_set_value\u001b[1;34m(tuples)\u001b[0m\n\u001b[0;32m   4300\u001b[0m \u001b[38;5;28;01mif\u001b[39;00m tf\u001b[38;5;241m.\u001b[39mexecuting_eagerly() \u001b[38;5;129;01mor\u001b[39;00m tf\u001b[38;5;241m.\u001b[39minside_function():\n\u001b[0;32m   4301\u001b[0m     \u001b[38;5;28;01mfor\u001b[39;00m x, value \u001b[38;5;129;01min\u001b[39;00m tuples:\n\u001b[1;32m-> 4302\u001b[0m         \u001b[43mx\u001b[49m\u001b[38;5;241;43m.\u001b[39;49m\u001b[43massign\u001b[49m\u001b[43m(\u001b[49m\u001b[43mnp\u001b[49m\u001b[38;5;241;43m.\u001b[39;49m\u001b[43masarray\u001b[49m\u001b[43m(\u001b[49m\u001b[43mvalue\u001b[49m\u001b[43m,\u001b[49m\u001b[43m \u001b[49m\u001b[43mdtype\u001b[49m\u001b[38;5;241;43m=\u001b[39;49m\u001b[43mdtype_numpy\u001b[49m\u001b[43m(\u001b[49m\u001b[43mx\u001b[49m\u001b[43m)\u001b[49m\u001b[43m)\u001b[49m\u001b[43m)\u001b[49m\n\u001b[0;32m   4303\u001b[0m \u001b[38;5;28;01melse\u001b[39;00m:\n\u001b[0;32m   4304\u001b[0m     \u001b[38;5;28;01mwith\u001b[39;00m get_graph()\u001b[38;5;241m.\u001b[39mas_default():\n",
      "File \u001b[1;32mc:\\Users\\Jon\\miniconda3\\envs\\Tasty_AI\\lib\\site-packages\\keras\\mixed_precision\\autocast_variable.py:255\u001b[0m, in \u001b[0;36mAutoCastVariable.assign\u001b[1;34m(self, value, use_locking, name, read_value)\u001b[0m\n\u001b[0;32m    254\u001b[0m \u001b[38;5;28;01mdef\u001b[39;00m \u001b[38;5;21massign\u001b[39m(\u001b[38;5;28mself\u001b[39m, value, use_locking\u001b[38;5;241m=\u001b[39m\u001b[38;5;28;01mNone\u001b[39;00m, name\u001b[38;5;241m=\u001b[39m\u001b[38;5;28;01mNone\u001b[39;00m, read_value\u001b[38;5;241m=\u001b[39m\u001b[38;5;28;01mTrue\u001b[39;00m):\n\u001b[1;32m--> 255\u001b[0m     \u001b[38;5;28;01mreturn\u001b[39;00m \u001b[38;5;28;43mself\u001b[39;49m\u001b[38;5;241;43m.\u001b[39;49m\u001b[43m_apply_assign_update\u001b[49m\u001b[43m(\u001b[49m\n\u001b[0;32m    256\u001b[0m \u001b[43m        \u001b[49m\u001b[38;5;28;43mself\u001b[39;49m\u001b[38;5;241;43m.\u001b[39;49m\u001b[43m_variable\u001b[49m\u001b[38;5;241;43m.\u001b[39;49m\u001b[43massign\u001b[49m\u001b[43m,\u001b[49m\u001b[43m \u001b[49m\u001b[43mvalue\u001b[49m\u001b[43m,\u001b[49m\u001b[43m \u001b[49m\u001b[43muse_locking\u001b[49m\u001b[43m,\u001b[49m\u001b[43m \u001b[49m\u001b[43mname\u001b[49m\u001b[43m,\u001b[49m\u001b[43m \u001b[49m\u001b[43mread_value\u001b[49m\n\u001b[0;32m    257\u001b[0m \u001b[43m    \u001b[49m\u001b[43m)\u001b[49m\n",
      "File \u001b[1;32mc:\\Users\\Jon\\miniconda3\\envs\\Tasty_AI\\lib\\site-packages\\keras\\mixed_precision\\autocast_variable.py:227\u001b[0m, in \u001b[0;36mAutoCastVariable._apply_assign_update\u001b[1;34m(self, update_fn, value, use_locking, name, read_value)\u001b[0m\n\u001b[0;32m    220\u001b[0m \u001b[38;5;28;01mdef\u001b[39;00m \u001b[38;5;21m_apply_assign_update\u001b[39m(\n\u001b[0;32m    221\u001b[0m     \u001b[38;5;28mself\u001b[39m, update_fn, value, use_locking\u001b[38;5;241m=\u001b[39m\u001b[38;5;28;01mNone\u001b[39;00m, name\u001b[38;5;241m=\u001b[39m\u001b[38;5;28;01mNone\u001b[39;00m, read_value\u001b[38;5;241m=\u001b[39m\u001b[38;5;28;01mTrue\u001b[39;00m\n\u001b[0;32m    222\u001b[0m ):\n\u001b[0;32m    223\u001b[0m     \u001b[38;5;66;03m# TODO(b/146181571): This logic can be simplified once\u001b[39;00m\n\u001b[0;32m    224\u001b[0m     \u001b[38;5;66;03m# DistributedVariable.assign returns a DistributedVariable. Currently\u001b[39;00m\n\u001b[0;32m    225\u001b[0m     \u001b[38;5;66;03m# for MirroredStrategy, it returns a Mirrored value.\u001b[39;00m\n\u001b[0;32m    226\u001b[0m     \u001b[38;5;28;01mif\u001b[39;00m tf\u001b[38;5;241m.\u001b[39mcompat\u001b[38;5;241m.\u001b[39mv1\u001b[38;5;241m.\u001b[39mexecuting_eagerly_outside_functions():\n\u001b[1;32m--> 227\u001b[0m         assign_op \u001b[38;5;241m=\u001b[39m \u001b[43mupdate_fn\u001b[49m\u001b[43m(\u001b[49m\u001b[43mvalue\u001b[49m\u001b[43m,\u001b[49m\u001b[43m \u001b[49m\u001b[43muse_locking\u001b[49m\u001b[43m,\u001b[49m\u001b[43m \u001b[49m\u001b[43mname\u001b[49m\u001b[43m,\u001b[49m\u001b[43m \u001b[49m\u001b[38;5;28;43;01mFalse\u001b[39;49;00m\u001b[43m)\u001b[49m\n\u001b[0;32m    228\u001b[0m         \u001b[38;5;28;01mif\u001b[39;00m read_value:\n\u001b[0;32m    229\u001b[0m             \u001b[38;5;66;03m# We create a new AutoCastVariable with the same underlying\u001b[39;00m\n\u001b[0;32m    230\u001b[0m             \u001b[38;5;66;03m# tf.Variable.  The new AutoCastVariable is identical except the\u001b[39;00m\n\u001b[0;32m    231\u001b[0m             \u001b[38;5;66;03m# 'op' attribute is defined. This matches the behavior of\u001b[39;00m\n\u001b[0;32m    232\u001b[0m             \u001b[38;5;66;03m# tf.Variable.assign.\u001b[39;00m\n\u001b[0;32m    233\u001b[0m             var \u001b[38;5;241m=\u001b[39m create_autocast_variable(\u001b[38;5;28mself\u001b[39m\u001b[38;5;241m.\u001b[39m_variable)\n",
      "File \u001b[1;32mc:\\Users\\Jon\\miniconda3\\envs\\Tasty_AI\\lib\\site-packages\\tensorflow\\python\\ops\\resource_variable_ops.py:941\u001b[0m, in \u001b[0;36mBaseResourceVariable.assign\u001b[1;34m(self, value, use_locking, name, read_value)\u001b[0m\n\u001b[0;32m    939\u001b[0m   validate_shape \u001b[38;5;241m=\u001b[39m \u001b[38;5;28mself\u001b[39m\u001b[38;5;241m.\u001b[39m_validate_shape \u001b[38;5;129;01mand\u001b[39;00m \u001b[38;5;28mself\u001b[39m\u001b[38;5;241m.\u001b[39m_shape\u001b[38;5;241m.\u001b[39mis_fully_defined()\n\u001b[0;32m    940\u001b[0m   kwargs[\u001b[38;5;124m\"\u001b[39m\u001b[38;5;124mvalidate_shape\u001b[39m\u001b[38;5;124m\"\u001b[39m] \u001b[38;5;241m=\u001b[39m validate_shape\n\u001b[1;32m--> 941\u001b[0m assign_op \u001b[38;5;241m=\u001b[39m gen_resource_variable_ops\u001b[38;5;241m.\u001b[39massign_variable_op(\n\u001b[0;32m    942\u001b[0m     \u001b[38;5;28mself\u001b[39m\u001b[38;5;241m.\u001b[39mhandle, value_tensor, name\u001b[38;5;241m=\u001b[39mname, \u001b[38;5;241m*\u001b[39m\u001b[38;5;241m*\u001b[39mkwargs)\n\u001b[0;32m    943\u001b[0m \u001b[38;5;28;01mif\u001b[39;00m read_value:\n\u001b[0;32m    944\u001b[0m   \u001b[38;5;28;01mreturn\u001b[39;00m \u001b[38;5;28mself\u001b[39m\u001b[38;5;241m.\u001b[39m_lazy_read(assign_op)\n",
      "File \u001b[1;32mc:\\Users\\Jon\\miniconda3\\envs\\Tasty_AI\\lib\\site-packages\\tensorflow\\python\\ops\\gen_resource_variable_ops.py:141\u001b[0m, in \u001b[0;36massign_variable_op\u001b[1;34m(resource, value, validate_shape, name)\u001b[0m\n\u001b[0;32m    139\u001b[0m \u001b[38;5;28;01mif\u001b[39;00m tld\u001b[38;5;241m.\u001b[39mis_eager:\n\u001b[0;32m    140\u001b[0m   \u001b[38;5;28;01mtry\u001b[39;00m:\n\u001b[1;32m--> 141\u001b[0m     _result \u001b[38;5;241m=\u001b[39m \u001b[43mpywrap_tfe\u001b[49m\u001b[38;5;241;43m.\u001b[39;49m\u001b[43mTFE_Py_FastPathExecute\u001b[49m\u001b[43m(\u001b[49m\n\u001b[0;32m    142\u001b[0m \u001b[43m      \u001b[49m\u001b[43m_ctx\u001b[49m\u001b[43m,\u001b[49m\u001b[43m \u001b[49m\u001b[38;5;124;43m\"\u001b[39;49m\u001b[38;5;124;43mAssignVariableOp\u001b[39;49m\u001b[38;5;124;43m\"\u001b[39;49m\u001b[43m,\u001b[49m\u001b[43m \u001b[49m\u001b[43mname\u001b[49m\u001b[43m,\u001b[49m\u001b[43m \u001b[49m\u001b[43mresource\u001b[49m\u001b[43m,\u001b[49m\u001b[43m \u001b[49m\u001b[43mvalue\u001b[49m\u001b[43m,\u001b[49m\u001b[43m \u001b[49m\u001b[38;5;124;43m\"\u001b[39;49m\u001b[38;5;124;43mvalidate_shape\u001b[39;49m\u001b[38;5;124;43m\"\u001b[39;49m\u001b[43m,\u001b[49m\n\u001b[0;32m    143\u001b[0m \u001b[43m      \u001b[49m\u001b[43mvalidate_shape\u001b[49m\u001b[43m)\u001b[49m\n\u001b[0;32m    144\u001b[0m     \u001b[38;5;28;01mreturn\u001b[39;00m _result\n\u001b[0;32m    145\u001b[0m   \u001b[38;5;28;01mexcept\u001b[39;00m _core\u001b[38;5;241m.\u001b[39m_NotOkStatusException \u001b[38;5;28;01mas\u001b[39;00m e:\n",
      "\u001b[1;31mKeyboardInterrupt\u001b[0m: "
     ]
    }
   ],
   "source": [
    "from tensorflow.keras.applications import VGG16\n",
    "from tensorflow.keras.applications.vgg16 import preprocess_input\n",
    "from tensorflow.keras.layers import Flatten, Dense, Dropout, BatchNormalization, Input\n",
    "from tensorflow.keras.models import Model\n",
    "from tensorflow.keras.optimizers import Adam\n",
    "\n",
    "# Constants\n",
    "IMG_SIZE = (224, 224)  # VGG16 default image size\n",
    "\n",
    "# model\n",
    "\n",
    "base_model = VGG16(weights='imagenet', include_top=False, input_tensor=Input(shape=(IMG_SIZE[0], IMG_SIZE[1], 3)))\n",
    "# Freeze base model layers and unfreeze the last 4 layers\n",
    "for layer in base_model.layers[:-4]:\n",
    "    layer.trainable = False\n",
    "\n",
    "# Model architecture\n",
    "x = base_model.output\n",
    "x = Flatten()(x)\n",
    "x = Dense(4096, activation='relu')(x)\n",
    "x = Dropout(0.5)(x)\n",
    "x = BatchNormalization()(x)\n",
    "x = Dense(4096, activation='relu')(x)\n",
    "x = Dropout(0.5)(x)\n",
    "predictions = Dense(num_classes, activation='softmax')(x)\n",
    "model = Model(inputs=base_model.input, outputs=predictions)\n",
    "\n",
    "# Compile model\n",
    "model.compile(optimizer=Adam(learning_rate=1e-5), loss='categorical_crossentropy', metrics=['accuracy'])\n"
   ]
  },
  {
   "cell_type": "code",
   "execution_count": null,
   "metadata": {},
   "outputs": [],
   "source": [
    "# Train model\n",
    "history = model.fit(train_gen, validation_data=validate_gen, epochs=1, steps_per_epoch=train_gen.num_batches)\n"
   ]
  },
  {
   "cell_type": "code",
   "execution_count": null,
   "metadata": {},
   "outputs": [],
   "source": [
    "# Evaluate the model on the validation set\n",
    "val_loss, val_accuracy = model.evaluate(validate_gen)\n",
    "print(f'Validation accuracy: {val_accuracy * 100:.2f}%')"
   ]
  },
  {
   "cell_type": "markdown",
   "metadata": {},
   "source": [
    "### Version 2 - Find Best Model"
   ]
  },
  {
   "cell_type": "code",
   "execution_count": 1,
   "metadata": {},
   "outputs": [
    {
     "name": "stdout",
     "output_type": "stream",
     "text": [
      "INFO:tensorflow:Mixed precision compatibility check (mixed_float16): OK\n",
      "Your GPU will likely run quickly with dtype policy mixed_float16 as it has compute capability of at least 7.0. Your GPU: NVIDIA GeForce RTX 4060 Laptop GPU, compute capability 8.9\n"
     ]
    }
   ],
   "source": [
    "import cv_models \n",
    "\n",
    "%load_ext autoreload\n",
    "%autoreload 2"
   ]
  },
  {
   "cell_type": "markdown",
   "metadata": {},
   "source": [
    "#### Using Class"
   ]
  },
  {
   "cell_type": "code",
   "execution_count": null,
   "metadata": {},
   "outputs": [
    {
     "name": "stdout",
     "output_type": "stream",
     "text": [
      "**********\n",
      "Training: Model_Xception__Dropout_0.2__HiddenSize_500**********\n",
      "\n",
      "Found 3587 validated image filenames belonging to 20 classes.\n",
      "Found 1197 validated image filenames belonging to 20 classes.\n"
     ]
    },
    {
     "name": "stderr",
     "output_type": "stream",
     "text": [
      "c:\\Users\\Jon\\miniconda3\\envs\\Tasty_AI\\lib\\site-packages\\keras\\preprocessing\\image.py:1139: UserWarning: Found 2 invalid image filename(s) in x_col=\"path\". These filename(s) will be ignored.\n",
      "  warnings.warn(\n"
     ]
    },
    {
     "name": "stdout",
     "output_type": "stream",
     "text": [
      "Epoch 1/5\n",
      "224/224 [==============================] - 92s 399ms/step - loss: 7.0524 - accuracy: 0.1255 - val_loss: 5.8858 - val_accuracy: 0.2323\n",
      "Epoch 2/5\n",
      "224/224 [==============================] - 93s 415ms/step - loss: 6.9755 - accuracy: 0.1697 - val_loss: 7.8322 - val_accuracy: 0.2221\n",
      "Epoch 3/5\n",
      "224/224 [==============================] - 93s 414ms/step - loss: 7.1112 - accuracy: 0.1621 - val_loss: 7.5197 - val_accuracy: 0.2627\n",
      "Epoch 4/5\n",
      "224/224 [==============================] - 97s 433ms/step - loss: 7.3150 - accuracy: 0.1831 - val_loss: 9.6244 - val_accuracy: 0.3167\n",
      "Epoch 5/5\n",
      "224/224 [==============================] - 98s 435ms/step - loss: 7.5103 - accuracy: 0.1773 - val_loss: 8.9776 - val_accuracy: 0.2559\n",
      "75/75 [==============================] - 19s 256ms/step - loss: 8.9611 - accuracy: 0.2548\n",
      "Validation accuracy: 25.48%\n",
      "Best Accuracy: 0.25480368733406067\n",
      "Best validation set: Model_Xception__Dropout_0.2__HiddenSize_500\n",
      "**********\n",
      "Training: Model_VGG16__Dropout_0.2__HiddenSize_500**********\n",
      "\n",
      "Found 3587 validated image filenames belonging to 20 classes.\n",
      "Found 1197 validated image filenames belonging to 20 classes.\n"
     ]
    },
    {
     "name": "stderr",
     "output_type": "stream",
     "text": [
      "c:\\Users\\Jon\\miniconda3\\envs\\Tasty_AI\\lib\\site-packages\\keras\\preprocessing\\image.py:1139: UserWarning: Found 2 invalid image filename(s) in x_col=\"path\". These filename(s) will be ignored.\n",
      "  warnings.warn(\n"
     ]
    },
    {
     "ename": "AttributeError",
     "evalue": "'tuple' object has no attribute 'trainable'",
     "output_type": "error",
     "traceback": [
      "\u001b[1;31m---------------------------------------------------------------------------\u001b[0m",
      "\u001b[1;31mAttributeError\u001b[0m                            Traceback (most recent call last)",
      "Cell \u001b[1;32mIn[2], line 11\u001b[0m\n\u001b[0;32m      1\u001b[0m \u001b[38;5;124;03m\"\"\"\u001b[39;00m\n\u001b[0;32m      2\u001b[0m \u001b[38;5;124;03mBest Accuracy: 0.13067729771137238\u001b[39;00m\n\u001b[0;32m      3\u001b[0m \u001b[38;5;124;03mBest validation set: Model_Xception__Dropout_0.3__HiddenSize_200\u001b[39;00m\n\u001b[1;32m   (...)\u001b[0m\n\u001b[0;32m      7\u001b[0m \u001b[38;5;124;03mBest validation set: Model_Xception__Dropout_0.2__HiddenSize_500\u001b[39;00m\n\u001b[0;32m      8\u001b[0m \u001b[38;5;124;03m\"\"\"\u001b[39;00m\n\u001b[0;32m     10\u001b[0m \u001b[38;5;66;03m# store results in each run in case of exception\u001b[39;00m\n\u001b[1;32m---> 11\u001b[0m \u001b[38;5;28;01mfor\u001b[39;00m best_acc, best_model_name, best_dropout, best_hidden, all_results \u001b[38;5;129;01min\u001b[39;00m cv_models\u001b[38;5;241m.\u001b[39mfind_best_model(\u001b[38;5;241m5\u001b[39m, batch_size\u001b[38;5;241m=\u001b[39m\u001b[38;5;241m16\u001b[39m):\n\u001b[0;32m     12\u001b[0m     \u001b[38;5;28;01mcontinue\u001b[39;00m\n",
      "File \u001b[1;32mc:\\Users\\Jon\\Documents\\UMSI\\Courses\\dev\\Capstone\\indian-food\\cv_models.py:173\u001b[0m, in \u001b[0;36mfind_best_model\u001b[1;34m(epochs, batch_size)\u001b[0m\n\u001b[0;32m    171\u001b[0m vals \u001b[38;5;241m=\u001b[39m \u001b[38;5;124mf\u001b[39m\u001b[38;5;124m'\u001b[39m\u001b[38;5;124mModel_\u001b[39m\u001b[38;5;132;01m{\u001b[39;00mmodel_name\u001b[38;5;132;01m}\u001b[39;00m\u001b[38;5;124m__Dropout_\u001b[39m\u001b[38;5;132;01m{\u001b[39;00mdropout\u001b[38;5;132;01m}\u001b[39;00m\u001b[38;5;124m__HiddenSize_\u001b[39m\u001b[38;5;132;01m{\u001b[39;00mhidden\u001b[38;5;132;01m}\u001b[39;00m\u001b[38;5;124m'\u001b[39m\n\u001b[0;32m    172\u001b[0m \u001b[38;5;28mprint\u001b[39m(\u001b[38;5;124mf\u001b[39m\u001b[38;5;124m'\u001b[39m\u001b[38;5;124m**********\u001b[39m\u001b[38;5;130;01m\\n\u001b[39;00m\u001b[38;5;124mTraining: \u001b[39m\u001b[38;5;132;01m{\u001b[39;00mvals\u001b[38;5;132;01m}\u001b[39;00m\u001b[38;5;124m**********\u001b[39m\u001b[38;5;130;01m\\n\u001b[39;00m\u001b[38;5;124m'\u001b[39m)\n\u001b[1;32m--> 173\u001b[0m history, model, val_loss, val_accuracy \u001b[38;5;241m=\u001b[39m \u001b[43mtrain_transfer_model\u001b[49m\u001b[43m(\u001b[49m\n\u001b[0;32m    174\u001b[0m \u001b[43m    \u001b[49m\u001b[43mbase_model\u001b[49m\u001b[43m,\u001b[49m\u001b[43m \u001b[49m\u001b[43mdf_train\u001b[49m\u001b[43m,\u001b[49m\u001b[43m \u001b[49m\u001b[43mdf_validate\u001b[49m\u001b[43m,\u001b[49m\u001b[43m \u001b[49m\u001b[43mepochs\u001b[49m\u001b[38;5;241;43m=\u001b[39;49m\u001b[43mepochs\u001b[49m\u001b[43m,\u001b[49m\u001b[43m \u001b[49m\u001b[43mdropout\u001b[49m\u001b[38;5;241;43m=\u001b[39;49m\u001b[43mdropout\u001b[49m\u001b[43m,\u001b[49m\u001b[43m \u001b[49m\u001b[43mhidden_size\u001b[49m\u001b[38;5;241;43m=\u001b[39;49m\u001b[43mhidden\u001b[49m\u001b[43m,\u001b[49m\u001b[43m \u001b[49m\n\u001b[0;32m    175\u001b[0m \u001b[43m    \u001b[49m\u001b[43mbatch_size\u001b[49m\u001b[38;5;241;43m=\u001b[39;49m\u001b[43mbatch_size\u001b[49m\u001b[43m,\u001b[49m\u001b[43m \u001b[49m\u001b[43mbulk_train\u001b[49m\u001b[38;5;241;43m=\u001b[39;49m\u001b[38;5;28;43;01mTrue\u001b[39;49;00m\u001b[43m)\u001b[49m\n\u001b[0;32m    177\u001b[0m \u001b[38;5;66;03m# free up model memory\u001b[39;00m\n\u001b[0;32m    178\u001b[0m \u001b[38;5;28;01mdel\u001b[39;00m(model, base_model)\n",
      "File \u001b[1;32mc:\\Users\\Jon\\Documents\\UMSI\\Courses\\dev\\Capstone\\indian-food\\cv_models.py:128\u001b[0m, in \u001b[0;36mtrain_transfer_model\u001b[1;34m(base_model, df_train, df_validate, epochs, num_classes, hidden_size, dropout, batch_size, bulk_train)\u001b[0m\n\u001b[0;32m    126\u001b[0m validation_steps \u001b[38;5;241m=\u001b[39m \u001b[38;5;28mlen\u001b[39m(df_validate)\u001b[38;5;241m/\u001b[39m\u001b[38;5;241m/\u001b[39mbatch_size\n\u001b[0;32m    127\u001b[0m \u001b[38;5;66;03m# create model\u001b[39;00m\n\u001b[1;32m--> 128\u001b[0m model \u001b[38;5;241m=\u001b[39m \u001b[43mTastyModel\u001b[49m\u001b[43m(\u001b[49m\u001b[43mbase_model\u001b[49m\u001b[43m,\u001b[49m\u001b[43m \u001b[49m\u001b[43mdropout\u001b[49m\u001b[38;5;241;43m=\u001b[39;49m\u001b[43mdropout\u001b[49m\u001b[43m,\u001b[49m\n\u001b[0;32m    129\u001b[0m \u001b[43m                   \u001b[49m\u001b[43mnum_classes\u001b[49m\u001b[38;5;241;43m=\u001b[39;49m\u001b[43mnum_classes\u001b[49m\u001b[43m,\u001b[49m\u001b[43m \u001b[49m\u001b[43mhidden_size\u001b[49m\u001b[38;5;241;43m=\u001b[39;49m\u001b[43mhidden_size\u001b[49m\u001b[43m)\u001b[49m\n\u001b[0;32m    130\u001b[0m model\u001b[38;5;241m.\u001b[39mcompile(optimizer\u001b[38;5;241m=\u001b[39mAdam(learning_rate\u001b[38;5;241m=\u001b[39m\u001b[38;5;241m1e-5\u001b[39m),\n\u001b[0;32m    131\u001b[0m               loss\u001b[38;5;241m=\u001b[39m\u001b[38;5;124m'\u001b[39m\u001b[38;5;124mcategorical_crossentropy\u001b[39m\u001b[38;5;124m'\u001b[39m, metrics\u001b[38;5;241m=\u001b[39m[\u001b[38;5;124m'\u001b[39m\u001b[38;5;124maccuracy\u001b[39m\u001b[38;5;124m'\u001b[39m])\n\u001b[0;32m    132\u001b[0m \u001b[38;5;66;03m# Train model\u001b[39;00m\n",
      "File \u001b[1;32mc:\\Users\\Jon\\Documents\\UMSI\\Courses\\dev\\Capstone\\indian-food\\cv_models.py:30\u001b[0m, in \u001b[0;36mTastyModel.__init__\u001b[1;34m(self, base_model, num_classes, hidden_size, dropout)\u001b[0m\n\u001b[0;32m     28\u001b[0m \u001b[38;5;66;03m# don't train the param on the base model\u001b[39;00m\n\u001b[0;32m     29\u001b[0m \u001b[38;5;28mself\u001b[39m\u001b[38;5;241m.\u001b[39mbase_model \u001b[38;5;241m=\u001b[39m base_model\n\u001b[1;32m---> 30\u001b[0m base_model\u001b[38;5;241m.\u001b[39mtrainable \u001b[38;5;241m=\u001b[39m \u001b[38;5;28;01mFalse\u001b[39;00m\n\u001b[0;32m     31\u001b[0m \u001b[38;5;66;03m# add the layers that we'll use for fine tuning\u001b[39;00m\n\u001b[0;32m     32\u001b[0m \u001b[38;5;28mself\u001b[39m\u001b[38;5;241m.\u001b[39mtrainable_model \u001b[38;5;241m=\u001b[39m keras\u001b[38;5;241m.\u001b[39mSequential(\n\u001b[0;32m     33\u001b[0m     [\n\u001b[0;32m     34\u001b[0m         Flatten(),\n\u001b[1;32m   (...)\u001b[0m\n\u001b[0;32m     41\u001b[0m     ]\n\u001b[0;32m     42\u001b[0m )\n",
      "\u001b[1;31mAttributeError\u001b[0m: 'tuple' object has no attribute 'trainable'"
     ]
    }
   ],
   "source": [
    "\"\"\"\n",
    "Best Accuracy: 0.13067729771137238\n",
    "Best validation set: Model_Xception__Dropout_0.3__HiddenSize_200\n",
    "\n",
    "Validation accuracy: 13.78%\n",
    "Best Accuracy: 0.1378486007452011\n",
    "Best validation set: Model_Xception__Dropout_0.2__HiddenSize_500\n",
    "\"\"\"\n",
    "\n",
    "\n",
    "# store results in each run in case of exception\n",
    "for best_acc, best_model_name, best_dropout, best_hidden, all_results in cv_models.find_best_model(5, batch_size=16):\n",
    "    continue\n",
    "\n"
   ]
  },
  {
   "cell_type": "markdown",
   "metadata": {},
   "source": [
    "#### Using Function"
   ]
  },
  {
   "cell_type": "code",
   "execution_count": 2,
   "metadata": {},
   "outputs": [],
   "source": [
    "\"\"\"\n",
    "base_model_names = [\n",
    "    'Xception',\n",
    "    'VGG16',\n",
    "    'ResNet152V2',\n",
    "    'InceptionResNetV2',\n",
    "    'NASNetLarge',\n",
    "    'EfficientNetB4',\n",
    "    'EfficientNetB5',\n",
    "    'EfficientNetB6',\n",
    "    'EfficientNetB7'\n",
    "]\n",
    "\"\"\"\n",
    "\n",
    "base_model = cv_models.get_base_model('VGG16')\n"
   ]
  },
  {
   "cell_type": "code",
   "execution_count": null,
   "metadata": {},
   "outputs": [],
   "source": [
    "#base_model.trainable = False\n",
    "#base_model.summary(show_trainable=True)"
   ]
  },
  {
   "cell_type": "code",
   "execution_count": 3,
   "metadata": {},
   "outputs": [
    {
     "name": "stdout",
     "output_type": "stream",
     "text": [
      "Found 3587 validated image filenames belonging to 20 classes.\n",
      "Found 1197 validated image filenames belonging to 20 classes.\n",
      "WARNING:tensorflow:`epsilon` argument is deprecated and will be removed, use `min_delta` instead.\n"
     ]
    },
    {
     "name": "stderr",
     "output_type": "stream",
     "text": [
      "c:\\Users\\Jon\\miniconda3\\envs\\Tasty_AI\\lib\\site-packages\\keras\\preprocessing\\image.py:1139: UserWarning: Found 2 invalid image filename(s) in x_col=\"path\". These filename(s) will be ignored.\n",
      "  warnings.warn(\n"
     ]
    },
    {
     "name": "stdout",
     "output_type": "stream",
     "text": [
      "Epoch 1/40\n",
      "112/112 [==============================] - 87s 749ms/step - loss: 3.0666 - accuracy: 0.2461 - val_loss: 2.0827 - val_accuracy: 0.4088 - lr: 0.0010\n",
      "Epoch 2/40\n",
      "112/112 [==============================] - 84s 749ms/step - loss: 2.0840 - accuracy: 0.3927 - val_loss: 1.5255 - val_accuracy: 0.5836 - lr: 0.0010\n",
      "Epoch 3/40\n",
      "112/112 [==============================] - 83s 738ms/step - loss: 1.8178 - accuracy: 0.4433 - val_loss: 1.5826 - val_accuracy: 0.4966 - lr: 0.0010\n",
      "Epoch 4/40\n",
      "112/112 [==============================] - 85s 760ms/step - loss: 1.7495 - accuracy: 0.4568 - val_loss: 1.4974 - val_accuracy: 0.5414 - lr: 0.0010\n",
      "Epoch 5/40\n",
      "112/112 [==============================] - 93s 832ms/step - loss: 1.7632 - accuracy: 0.4653 - val_loss: 1.5934 - val_accuracy: 0.5127 - lr: 0.0010\n",
      "Epoch 6/40\n",
      "112/112 [==============================] - 92s 821ms/step - loss: 1.7447 - accuracy: 0.4639 - val_loss: 1.6856 - val_accuracy: 0.4840 - lr: 0.0010\n",
      "Epoch 7/40\n",
      "112/112 [==============================] - ETA: 0s - loss: 1.7085 - accuracy: 0.4712\n",
      "Epoch 7: ReduceLROnPlateau reducing learning rate to 0.00010000000474974513.\n",
      "112/112 [==============================] - 90s 806ms/step - loss: 1.7085 - accuracy: 0.4712 - val_loss: 1.5162 - val_accuracy: 0.5372 - lr: 0.0010\n",
      "Epoch 8/40\n",
      "112/112 [==============================] - 82s 733ms/step - loss: 1.6290 - accuracy: 0.5058 - val_loss: 1.3712 - val_accuracy: 0.5912 - lr: 1.0000e-04\n",
      "Epoch 9/40\n",
      "112/112 [==============================] - 84s 745ms/step - loss: 1.5258 - accuracy: 0.5345 - val_loss: 1.2543 - val_accuracy: 0.6258 - lr: 1.0000e-04\n",
      "Epoch 10/40\n",
      "112/112 [==============================] - 85s 758ms/step - loss: 1.4856 - accuracy: 0.5427 - val_loss: 1.2115 - val_accuracy: 0.6419 - lr: 1.0000e-04\n",
      "Epoch 11/40\n",
      "112/112 [==============================] - 83s 740ms/step - loss: 1.4662 - accuracy: 0.5581 - val_loss: 1.2055 - val_accuracy: 0.6461 - lr: 1.0000e-04\n",
      "Epoch 12/40\n",
      "112/112 [==============================] - 83s 739ms/step - loss: 1.4361 - accuracy: 0.5612 - val_loss: 1.1755 - val_accuracy: 0.6495 - lr: 1.0000e-04\n",
      "Epoch 13/40\n",
      "112/112 [==============================] - 84s 750ms/step - loss: 1.4141 - accuracy: 0.5767 - val_loss: 1.1625 - val_accuracy: 0.6596 - lr: 1.0000e-04\n",
      "Epoch 14/40\n",
      "112/112 [==============================] - 84s 745ms/step - loss: 1.3601 - accuracy: 0.5851 - val_loss: 1.1670 - val_accuracy: 0.6664 - lr: 1.0000e-04\n",
      "Epoch 15/40\n",
      "112/112 [==============================] - 83s 745ms/step - loss: 1.3649 - accuracy: 0.5789 - val_loss: 1.1459 - val_accuracy: 0.6731 - lr: 1.0000e-04\n",
      "Epoch 16/40\n",
      "112/112 [==============================] - 84s 748ms/step - loss: 1.3428 - accuracy: 0.5823 - val_loss: 1.1539 - val_accuracy: 0.6613 - lr: 1.0000e-04\n",
      "Epoch 17/40\n",
      "112/112 [==============================] - 84s 750ms/step - loss: 1.3123 - accuracy: 0.6017 - val_loss: 1.1385 - val_accuracy: 0.6706 - lr: 1.0000e-04\n",
      "Epoch 18/40\n",
      "112/112 [==============================] - 83s 738ms/step - loss: 1.3216 - accuracy: 0.5986 - val_loss: 1.1254 - val_accuracy: 0.6723 - lr: 1.0000e-04\n",
      "Epoch 19/40\n",
      "112/112 [==============================] - 83s 744ms/step - loss: 1.2736 - accuracy: 0.6138 - val_loss: 1.1149 - val_accuracy: 0.6757 - lr: 1.0000e-04\n",
      "Epoch 20/40\n",
      "112/112 [==============================] - 83s 744ms/step - loss: 1.2896 - accuracy: 0.6115 - val_loss: 1.1093 - val_accuracy: 0.6698 - lr: 1.0000e-04\n",
      "Epoch 21/40\n",
      "112/112 [==============================] - 86s 771ms/step - loss: 1.2854 - accuracy: 0.6028 - val_loss: 1.1136 - val_accuracy: 0.6698 - lr: 1.0000e-04\n",
      "Epoch 22/40\n",
      "112/112 [==============================] - 91s 811ms/step - loss: 1.2471 - accuracy: 0.6236 - val_loss: 1.0980 - val_accuracy: 0.6799 - lr: 1.0000e-04\n",
      "Epoch 23/40\n",
      "112/112 [==============================] - 92s 820ms/step - loss: 1.2469 - accuracy: 0.6160 - val_loss: 1.0797 - val_accuracy: 0.6807 - lr: 1.0000e-04\n",
      "Epoch 24/40\n",
      "112/112 [==============================] - 88s 789ms/step - loss: 1.2331 - accuracy: 0.6267 - val_loss: 1.0873 - val_accuracy: 0.6824 - lr: 1.0000e-04\n",
      "Epoch 25/40\n",
      "112/112 [==============================] - 82s 732ms/step - loss: 1.2097 - accuracy: 0.6323 - val_loss: 1.0977 - val_accuracy: 0.6824 - lr: 1.0000e-04\n",
      "Epoch 26/40\n",
      "112/112 [==============================] - 82s 735ms/step - loss: 1.1924 - accuracy: 0.6262 - val_loss: 1.0768 - val_accuracy: 0.6867 - lr: 1.0000e-04\n",
      "Epoch 27/40\n",
      "112/112 [==============================] - 82s 736ms/step - loss: 1.2050 - accuracy: 0.6346 - val_loss: 1.0743 - val_accuracy: 0.6841 - lr: 1.0000e-04\n",
      "Epoch 28/40\n",
      "112/112 [==============================] - 82s 731ms/step - loss: 1.2167 - accuracy: 0.6262 - val_loss: 1.0693 - val_accuracy: 0.6824 - lr: 1.0000e-04\n",
      "Epoch 29/40\n",
      "112/112 [==============================] - 82s 733ms/step - loss: 1.1859 - accuracy: 0.6349 - val_loss: 1.0454 - val_accuracy: 0.6993 - lr: 1.0000e-04\n",
      "Epoch 30/40\n",
      "112/112 [==============================] - 82s 734ms/step - loss: 1.1894 - accuracy: 0.6340 - val_loss: 1.0499 - val_accuracy: 0.6917 - lr: 1.0000e-04\n",
      "Epoch 31/40\n",
      "112/112 [==============================] - 82s 734ms/step - loss: 1.1488 - accuracy: 0.6518 - val_loss: 1.0518 - val_accuracy: 0.6867 - lr: 1.0000e-04\n",
      "Epoch 32/40\n",
      "112/112 [==============================] - ETA: 0s - loss: 1.1629 - accuracy: 0.6504\n",
      "Epoch 32: ReduceLROnPlateau reducing learning rate to 1.0000000474974514e-05.\n",
      "112/112 [==============================] - 82s 735ms/step - loss: 1.1629 - accuracy: 0.6504 - val_loss: 1.0603 - val_accuracy: 0.6875 - lr: 1.0000e-04\n",
      "Epoch 33/40\n",
      "112/112 [==============================] - 82s 736ms/step - loss: 1.1336 - accuracy: 0.6504 - val_loss: 1.0328 - val_accuracy: 0.6943 - lr: 1.0000e-05\n",
      "Epoch 34/40\n",
      "112/112 [==============================] - 85s 753ms/step - loss: 1.1342 - accuracy: 0.6498 - val_loss: 1.0375 - val_accuracy: 0.6959 - lr: 1.0000e-05\n",
      "Epoch 35/40\n",
      "112/112 [==============================] - 84s 751ms/step - loss: 1.1285 - accuracy: 0.6467 - val_loss: 1.0437 - val_accuracy: 0.6943 - lr: 1.0000e-05\n",
      "Epoch 36/40\n",
      "112/112 [==============================] - ETA: 0s - loss: 1.1259 - accuracy: 0.6456\n",
      "Epoch 36: ReduceLROnPlateau reducing learning rate to 1.0000000656873453e-06.\n",
      "112/112 [==============================] - 84s 754ms/step - loss: 1.1259 - accuracy: 0.6456 - val_loss: 1.0402 - val_accuracy: 0.6917 - lr: 1.0000e-05\n",
      "Epoch 37/40\n",
      "112/112 [==============================] - 84s 747ms/step - loss: 1.1363 - accuracy: 0.6450 - val_loss: 1.0313 - val_accuracy: 0.6976 - lr: 1.0000e-06\n",
      "Epoch 38/40\n",
      "112/112 [==============================] - 84s 749ms/step - loss: 1.1394 - accuracy: 0.6394 - val_loss: 1.0365 - val_accuracy: 0.6968 - lr: 1.0000e-06\n",
      "Epoch 39/40\n",
      "112/112 [==============================] - 84s 748ms/step - loss: 1.1210 - accuracy: 0.6487 - val_loss: 1.0304 - val_accuracy: 0.6959 - lr: 1.0000e-06\n",
      "Epoch 40/40\n",
      "112/112 [==============================] - 84s 752ms/step - loss: 1.1024 - accuracy: 0.6610 - val_loss: 1.0538 - val_accuracy: 0.6909 - lr: 1.0000e-06\n",
      "38/38 [==============================] - 15s 402ms/step - loss: 1.0459 - accuracy: 0.6942\n",
      "Validation accuracy: 69.42%\n"
     ]
    }
   ],
   "source": [
    "epochs = 40\n",
    "dropout = 0.5\n",
    "hidden = 4096\n",
    "batch_size=32\n",
    "lr = 1e-3\n",
    "df_train, df_validate, _ = cv_models.get_split_data()\n",
    "\n",
    "history, model, val_loss, val_accuracy = cv_models.train_transfer_model_2(\n",
    "                    base_model, df_train, df_validate, epochs=epochs, dropout=dropout, hidden_size=hidden, \n",
    "                    batch_size=batch_size, bulk_train=False, lr=lr)\n",
    "\n",
    "\n"
   ]
  },
  {
   "cell_type": "code",
   "execution_count": 4,
   "metadata": {},
   "outputs": [
    {
     "data": {
      "image/png": "[encoded data removed]",
      "text/plain": [
       "<Figure size 1200x400 with 2 Axes>"
      ]
     },
     "metadata": {},
     "output_type": "display_data"
    }
   ],
   "source": [
    "import matplotlib.pyplot as plt\n",
    "# Plotting training history\n",
    "plt.figure(figsize=(12, 4))\n",
    "plt.subplot(1, 2, 1)\n",
    "plt.plot(history.history['accuracy'], label='Training Accuracy')\n",
    "plt.plot(history.history['val_accuracy'], label='Validation Accuracy')\n",
    "plt.title('Accuracy over Epochs')\n",
    "plt.xlabel('Epoch')\n",
    "plt.ylabel('Accuracy')\n",
    "plt.legend()\n",
    "\n",
    "plt.subplot(1, 2, 2)\n",
    "plt.plot(history.history['loss'], label='Training Loss')\n",
    "plt.plot(history.history['val_loss'], label='Validation Loss')\n",
    "plt.title('Loss over Epochs')\n",
    "plt.xlabel('Epoch')\n",
    "plt.ylabel('Loss')\n",
    "plt.legend()\n",
    "\n",
    "plt.show()"
   ]
  },
  {
   "cell_type": "code",
   "execution_count": null,
   "metadata": {},
   "outputs": [],
   "source": [
    "#len(list(history.history.values())[0])\n",
    "#history"
   ]
  },
  {
   "cell_type": "code",
   "execution_count": 5,
   "metadata": {},
   "outputs": [],
   "source": [
    "# path to model\n",
    "path = 'models/cv_model.keras'\n",
    "model.save(path)"
   ]
  },
  {
   "cell_type": "code",
   "execution_count": 6,
   "metadata": {},
   "outputs": [],
   "source": [
    "#model = cv_models.get_tasty_model(base_model, num_classes=20, hidden_size=hidden_size, dropout=dropout)    \n",
    "    "
   ]
  },
  {
   "cell_type": "code",
   "execution_count": 7,
   "metadata": {},
   "outputs": [],
   "source": [
    "#model.compile(optimizer=Adam(learning_rate=lr),\n",
    "#                  loss='categorical_crossentropy', metrics=['accuracy'])"
   ]
  },
  {
   "cell_type": "code",
   "execution_count": 9,
   "metadata": {},
   "outputs": [],
   "source": [
    "#model"
   ]
  },
  {
   "cell_type": "code",
   "execution_count": null,
   "metadata": {},
   "outputs": [],
   "source": [
    "import tensorflow as tf\n",
    "\n",
    "gpus = tf.config.list_physical_devices('GPU')\n",
    "if gpus:\n",
    "    print(\"TensorFlow is using GPU\")\n",
    "    for gpu in gpus:\n",
    "        print(\"GPU:\", gpu.name)\n",
    "else:\n",
    "    print(\"TensorFlow is not using GPU\")"
   ]
  },
  {
   "cell_type": "code",
   "execution_count": 2,
   "metadata": {},
   "outputs": [
    {
     "name": "stdout",
     "output_type": "stream",
     "text": [
      "1/1 [==============================] - 0s 135ms/step\n"
     ]
    },
    {
     "data": {
      "text/plain": [
       "['pakode', 'kadai_paneer', 'samosa']"
      ]
     },
     "execution_count": 2,
     "metadata": {},
     "output_type": "execute_result"
    }
   ],
   "source": [
    "def predict(path_to_image, top=3):\n",
    "    import keras\n",
    "    import cv2\n",
    "    import numpy as np\n",
    "    \n",
    "    import os\n",
    "    labels = os.listdir('data/Food_Classification/')\n",
    "    labels = [l for l in labels if not l.endswith('xz')]\n",
    "\n",
    "    model_path = 'models/cv_model.keras'\n",
    "    model = keras.models.load_model(model_path)\n",
    "\n",
    "    image = cv2.imread(path_to_image)\n",
    "    image = cv2.resize(image,(224,224))\n",
    "    image = np.reshape(image,[1,224,224,3])\n",
    "\n",
    "    scale_layer = keras.layers.Rescaling(scale=1 / 127.5, offset=-1)\n",
    "    x = scale_layer(image)\n",
    "    \n",
    "    preds_out = model.predict(x) \n",
    "    #return preds_out\n",
    "    softmax = keras.layers.Softmax()\n",
    "    sm_preds = softmax(preds_out)[0]\n",
    "\n",
    "    idx = np.argsort(sm_preds)[::-1]\n",
    "#    return idx\n",
    "\n",
    "    return [labels[i] for i in idx[:top]]   \n",
    "\n",
    "\n",
    "samosa_image = 'data/Food_Classification/samosa/002.jpg'\n",
    "predict(samosa_image, 3) # ['chole_bhature', 'dal_makhani', 'momos']\n",
    "\n"
   ]
  },
  {
   "cell_type": "code",
   "execution_count": null,
   "metadata": {},
   "outputs": [
    {
     "data": {
      "text/plain": [
       "['burger',\n",
       " 'butter_naan',\n",
       " 'chai',\n",
       " 'chapati',\n",
       " 'chole_bhature',\n",
       " 'dal_makhani',\n",
       " 'dhokla',\n",
       " 'fried_rice',\n",
       " 'idli',\n",
       " 'jalebi',\n",
       " 'kaathi_rolls',\n",
       " 'kadai_paneer',\n",
       " 'kulfi',\n",
       " 'masala_dosa',\n",
       " 'momos',\n",
       " 'paani_puri',\n",
       " 'pakode',\n",
       " 'pav_bhaji',\n",
       " 'pizza',\n",
       " 'samosa']"
      ]
     },
     "execution_count": 10,
     "metadata": {},
     "output_type": "execute_result"
    }
   ],
   "source": [
    "import os\n",
    "labels = os.listdir('data/Food_Classification/')\n",
    "\n",
    "\n",
    "labels"
   ]
  },
  {
   "cell_type": "code",
   "execution_count": null,
   "metadata": {},
   "outputs": [],
   "source": [
    "from sklearn.metrics import confusion_matrix ,classification_report\n",
    "import numpy as np\n",
    "import seaborn as sns\n",
    "\n",
    "# Confusion Matrix\n",
    "y_pred = model.predict(X_val)\n",
    "y_pred_classes = np.argmax(y_pred, axis=1)\n",
    "y_true = np.argmax(y_val, axis=1)\n",
    "conf_matrix = confusion_matrix(y_true, y_pred_classes)\n",
    "plt.figure(figsize=(10, 8))\n",
    "sns.heatmap(conf_matrix, annot=True, fmt='d', cmap='Blues')\n",
    "plt.title('Confusion Matrix')\n",
    "plt.ylabel('True Label')\n",
    "plt.xlabel('Predicted Label')\n",
    "plt.show()\n",
    "\n",
    "# Calculate precision, recall, F1 score, and accuracy\n",
    "report = classification_report(y_true, y_pred_classes, output_dict=True)\n",
    "accuracy = report['accuracy']\n",
    "precision = report['macro avg']['precision']\n",
    "recall = report['macro avg']['recall']\n",
    "f1_score = report['macro avg']['f1-score']\n",
    "\n",
    "# Display the calculated metrics\n",
    "print(f'Validation Accuracy: {accuracy:.4f}')\n",
    "print(f'Precision: {precision:.4f}')\n",
    "print(f'Recall: {recall:.4f}')\n",
    "print(f'F1 Score: {f1_score:.4f}')"
   ]
  },
  {
   "cell_type": "code",
   "execution_count": null,
   "metadata": {},
   "outputs": [],
   "source": [
    "import os\n",
    "labels = os.listdir('data/Food_Classification/')\n"
   ]
  },
  {
   "cell_type": "code",
   "execution_count": null,
   "metadata": {},
   "outputs": [
    {
     "data": {
      "text/plain": [
       "['masala_dosa', 'butter_naan', 'chole_bhature']"
      ]
     },
     "execution_count": 86,
     "metadata": {},
     "output_type": "execute_result"
    }
   ],
   "source": []
  }
 ],
 "metadata": {
  "kernelspec": {
   "display_name": "Tasty_AI",
   "language": "python",
   "name": "python3"
  },
  "language_info": {
   "codemirror_mode": {
    "name": "ipython",
    "version": 3
   },
   "file_extension": ".py",
   "mimetype": "text/x-python",
   "name": "python",
   "nbconvert_exporter": "python",
   "pygments_lexer": "ipython3",
   "version": "3.9.7"
  }
 },
 "nbformat": 4,
 "nbformat_minor": 2
}
