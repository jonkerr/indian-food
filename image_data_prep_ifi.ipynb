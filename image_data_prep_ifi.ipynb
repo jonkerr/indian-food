{
 "cells": [
  {
   "cell_type": "markdown",
   "metadata": {},
   "source": [
    "### Process data in Indian_Food_Images to make ready for training computer vision\n",
    "\n",
    "**Structure**\\\n",
    "After cleaning up the folder structure, we have a number of folders under data/Indian_Food_Images.  Each folder contains the name/label of a dish and contains images of that dish."
   ]
  },
  {
   "cell_type": "code",
   "execution_count": 3,
   "metadata": {},
   "outputs": [],
   "source": [
    "import pandas as pd\n",
    "import os\n",
    "\n",
    "#from sklearn.model_selection import train_test_split\n",
    "from image_prep import get_img_df, train_val_test_split"
   ]
  },
  {
   "cell_type": "markdown",
   "metadata": {},
   "source": [
    "##### Step 1: Associate image paths with label name in a dataframe."
   ]
  },
  {
   "cell_type": "code",
   "execution_count": 4,
   "metadata": {},
   "outputs": [],
   "source": [
    "ifi_path = \"data/Indian_Food_Images/\"\n",
    "fc_path = \"data/Food_Classification/\"\n",
    "\n",
    "df_ifi = get_img_df(ifi_path)\n",
    "df_fc = get_img_df(fc_path)\n"
   ]
  },
  {
   "cell_type": "code",
   "execution_count": 17,
   "metadata": {},
   "outputs": [
    {
     "name": "stdout",
     "output_type": "stream",
     "text": [
      "       label                                              path\n",
      "0  adhirasam  data/Indian_Food_Images/adhirasam/02d09e872d.jpg\n",
      "1  adhirasam  data/Indian_Food_Images/adhirasam/02f2e49039.jpg\n",
      "           label                                          path\n",
      "413  butter_naan  data/Food_Classification/butter_naan/001.jpg\n",
      "414  butter_naan  data/Food_Classification/butter_naan/002.jpg\n"
     ]
    }
   ],
   "source": [
    "# inspect\n",
    "print(df_ifi.head(2))\n",
    "print(df_fc.head(2))\n"
   ]
  },
  {
   "cell_type": "markdown",
   "metadata": {},
   "source": [
    "Drop unwanted food items from df_fc"
   ]
  },
  {
   "cell_type": "code",
   "execution_count": 11,
   "metadata": {},
   "outputs": [
    {
     "data": {
      "text/plain": [
       "array(['butter_naan', 'chai', 'chapati', 'chole_bhature', 'dal_makhani',\n",
       "       'dhokla', 'fried_rice', 'idli', 'jalebi', 'kaathi_rolls',\n",
       "       'kadai_paneer', 'kulfi', 'masala_dosa', 'momos', 'paani_puri',\n",
       "       'pakode', 'pav_bhaji', 'samosa'], dtype=object)"
      ]
     },
     "execution_count": 11,
     "metadata": {},
     "output_type": "execute_result"
    }
   ],
   "source": [
    "unwanted_food_list = ['burger','pizza']\n",
    "\n",
    "df_fc = df_fc[~df_fc['label'].isin(unwanted_food_list)]\n",
    "df_fc.label.unique()"
   ]
  },
  {
   "cell_type": "code",
   "execution_count": 18,
   "metadata": {},
   "outputs": [],
   "source": [
    "# ensure paths are valid\n",
    "def assert_df_valid_path(df):\n",
    "    assert(os.path.isfile(df.iloc[0]['path']))\n",
    "\n",
    "assert_df_valid_path(df_ifi)\n",
    "assert_df_valid_path(df_fc)"
   ]
  },
  {
   "cell_type": "markdown",
   "metadata": {},
   "source": [
    "##### Step 2: Test/Train Split"
   ]
  },
  {
   "cell_type": "code",
   "execution_count": 22,
   "metadata": {},
   "outputs": [
    {
     "data": {
      "text/plain": [
       "label\n",
       "adhirasam               50\n",
       "aloo_gobi               50\n",
       "naan                    50\n",
       "mysore_pak              50\n",
       "modak                   50\n",
       "                        ..\n",
       "daal_puri               50\n",
       "daal_baati_churma       50\n",
       "chikki                  50\n",
       "chicken_tikka_masala    50\n",
       "unni_appam              50\n",
       "Name: count, Length: 80, dtype: int64"
      ]
     },
     "execution_count": 22,
     "metadata": {},
     "output_type": "execute_result"
    }
   ],
   "source": [
    "# first note how many of each class we have\n",
    "#df.groupby('label').count().head(5)\n",
    "\n",
    "df_ifi.value_counts('label')"
   ]
  },
  {
   "cell_type": "code",
   "execution_count": 23,
   "metadata": {},
   "outputs": [
    {
     "data": {
      "text/plain": [
       "label\n",
       "chapati          413\n",
       "kadai_paneer     412\n",
       "chole_bhature    411\n",
       "chai             381\n",
       "fried_rice       355\n",
       "pav_bhaji        353\n",
       "butter_naan      329\n",
       "dal_makhani      321\n",
       "momos            319\n",
       "masala_dosa      311\n",
       "idli             310\n",
       "jalebi           297\n",
       "kaathi_rolls     293\n",
       "dhokla           289\n",
       "pakode           278\n",
       "samosa           262\n",
       "kulfi            237\n",
       "paani_puri       130\n",
       "Name: count, dtype: int64"
      ]
     },
     "execution_count": 23,
     "metadata": {},
     "output_type": "execute_result"
    }
   ],
   "source": [
    "df_fc.value_counts('label')"
   ]
  },
  {
   "cell_type": "markdown",
   "metadata": {},
   "source": [
    "Neither set has a lot of data to work with.  We might need to play with the percentages but we probably don't want less than 10 images in each of the test and validation sets.  For the Indian_Food_Images set, this would mean a 60/20/20 split.  We can use these proportions for both image sets."
   ]
  },
  {
   "cell_type": "code",
   "execution_count": 24,
   "metadata": {},
   "outputs": [],
   "source": [
    "train_ifi, test_ifi, validate_ifi = train_val_test_split(df_ifi, test_size=0.2, val_size=0.2)\n",
    "train_fc, test_fc, validate_fc = train_val_test_split(df_fc, test_size=0.2, val_size=0.2)\n"
   ]
  },
  {
   "cell_type": "code",
   "execution_count": 26,
   "metadata": {},
   "outputs": [
    {
     "data": {
      "text/plain": [
       "label\n",
       "chapati          248\n",
       "kadai_paneer     247\n",
       "chole_bhature    246\n",
       "chai             229\n",
       "fried_rice       213\n",
       "pav_bhaji        212\n",
       "butter_naan      197\n",
       "dal_makhani      193\n",
       "momos            191\n",
       "masala_dosa      187\n",
       "idli             186\n",
       "jalebi           178\n",
       "kaathi_rolls     176\n",
       "dhokla           173\n",
       "pakode           167\n",
       "samosa           157\n",
       "kulfi            142\n",
       "paani_puri        78\n",
       "Name: count, dtype: int64"
      ]
     },
     "execution_count": 26,
     "metadata": {},
     "output_type": "execute_result"
    }
   ],
   "source": [
    "train_fc.value_counts('label')"
   ]
  },
  {
   "cell_type": "code",
   "execution_count": 14,
   "metadata": {},
   "outputs": [
    {
     "data": {
      "text/html": [
       "<div>\n",
       "<style scoped>\n",
       "    .dataframe tbody tr th:only-of-type {\n",
       "        vertical-align: middle;\n",
       "    }\n",
       "\n",
       "    .dataframe tbody tr th {\n",
       "        vertical-align: top;\n",
       "    }\n",
       "\n",
       "    .dataframe thead th {\n",
       "        text-align: right;\n",
       "    }\n",
       "</style>\n",
       "<table border=\"1\" class=\"dataframe\">\n",
       "  <thead>\n",
       "    <tr style=\"text-align: right;\">\n",
       "      <th></th>\n",
       "      <th>path</th>\n",
       "    </tr>\n",
       "    <tr>\n",
       "      <th>label</th>\n",
       "      <th></th>\n",
       "    </tr>\n",
       "  </thead>\n",
       "  <tbody>\n",
       "    <tr>\n",
       "      <th>adhirasam</th>\n",
       "      <td>10</td>\n",
       "    </tr>\n",
       "    <tr>\n",
       "      <th>aloo_gobi</th>\n",
       "      <td>10</td>\n",
       "    </tr>\n",
       "    <tr>\n",
       "      <th>aloo_matar</th>\n",
       "      <td>10</td>\n",
       "    </tr>\n",
       "    <tr>\n",
       "      <th>aloo_methi</th>\n",
       "      <td>10</td>\n",
       "    </tr>\n",
       "    <tr>\n",
       "      <th>aloo_shimla_mirch</th>\n",
       "      <td>10</td>\n",
       "    </tr>\n",
       "  </tbody>\n",
       "</table>\n",
       "</div>"
      ],
      "text/plain": [
       "                   path\n",
       "label                  \n",
       "adhirasam            10\n",
       "aloo_gobi            10\n",
       "aloo_matar           10\n",
       "aloo_methi           10\n",
       "aloo_shimla_mirch    10"
      ]
     },
     "execution_count": 14,
     "metadata": {},
     "output_type": "execute_result"
    }
   ],
   "source": [
    "test.groupby('label').count().head(5)"
   ]
  },
  {
   "cell_type": "code",
   "execution_count": 15,
   "metadata": {},
   "outputs": [
    {
     "data": {
      "text/html": [
       "<div>\n",
       "<style scoped>\n",
       "    .dataframe tbody tr th:only-of-type {\n",
       "        vertical-align: middle;\n",
       "    }\n",
       "\n",
       "    .dataframe tbody tr th {\n",
       "        vertical-align: top;\n",
       "    }\n",
       "\n",
       "    .dataframe thead th {\n",
       "        text-align: right;\n",
       "    }\n",
       "</style>\n",
       "<table border=\"1\" class=\"dataframe\">\n",
       "  <thead>\n",
       "    <tr style=\"text-align: right;\">\n",
       "      <th></th>\n",
       "      <th>path</th>\n",
       "    </tr>\n",
       "    <tr>\n",
       "      <th>label</th>\n",
       "      <th></th>\n",
       "    </tr>\n",
       "  </thead>\n",
       "  <tbody>\n",
       "    <tr>\n",
       "      <th>adhirasam</th>\n",
       "      <td>10</td>\n",
       "    </tr>\n",
       "    <tr>\n",
       "      <th>aloo_gobi</th>\n",
       "      <td>10</td>\n",
       "    </tr>\n",
       "    <tr>\n",
       "      <th>aloo_matar</th>\n",
       "      <td>10</td>\n",
       "    </tr>\n",
       "    <tr>\n",
       "      <th>aloo_methi</th>\n",
       "      <td>10</td>\n",
       "    </tr>\n",
       "    <tr>\n",
       "      <th>aloo_shimla_mirch</th>\n",
       "      <td>10</td>\n",
       "    </tr>\n",
       "  </tbody>\n",
       "</table>\n",
       "</div>"
      ],
      "text/plain": [
       "                   path\n",
       "label                  \n",
       "adhirasam            10\n",
       "aloo_gobi            10\n",
       "aloo_matar           10\n",
       "aloo_methi           10\n",
       "aloo_shimla_mirch    10"
      ]
     },
     "execution_count": 15,
     "metadata": {},
     "output_type": "execute_result"
    }
   ],
   "source": [
    "validate.groupby('label').count().head(5)"
   ]
  },
  {
   "cell_type": "markdown",
   "metadata": {},
   "source": [
    "##### Step 3: Process images so they can be used in computer vision"
   ]
  },
  {
   "cell_type": "code",
   "execution_count": 12,
   "metadata": {},
   "outputs": [
    {
     "data": {
      "text/plain": [
       "0.6"
      ]
     },
     "execution_count": 12,
     "metadata": {},
     "output_type": "execute_result"
    }
   ],
   "source": [
    "# TBD\n",
    "test = 0.2\n",
    "val = 0.3\n",
    "\n",
    "val / (test+val)"
   ]
  }
 ],
 "metadata": {
  "kernelspec": {
   "display_name": ".venv",
   "language": "python",
   "name": "python3"
  },
  "language_info": {
   "codemirror_mode": {
    "name": "ipython",
    "version": 3
   },
   "file_extension": ".py",
   "mimetype": "text/x-python",
   "name": "python",
   "nbconvert_exporter": "python",
   "pygments_lexer": "ipython3",
   "version": "3.12.0"
  }
 },
 "nbformat": 4,
 "nbformat_minor": 2
}
