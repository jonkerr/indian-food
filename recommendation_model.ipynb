{
 "cells": [
  {
   "cell_type": "code",
   "execution_count": null,
   "id": "57900c76-2e5e-4318-bc37-cfeba89c1fc2",
   "metadata": {},
   "outputs": [],
   "source": []
  }
 ],
 "metadata": {
  "kernelspec": {
   "display_name": "",
   "name": ""
  },
  "language_info": {
   "name": ""
  }
 },
 "nbformat": 4,
 "nbformat_minor": 5
}
