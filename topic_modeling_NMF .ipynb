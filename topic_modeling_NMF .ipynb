{
 "cells": [
  {
   "cell_type": "code",
   "execution_count": 1,
   "id": "edfd6ab6-fe2d-4a58-964e-c3ee45edfe60",
   "metadata": {},
   "outputs": [],
   "source": [
    "import pandas as pd"
   ]
  },
  {
   "cell_type": "code",
   "execution_count": 2,
   "id": "6295493a-76d6-4569-9892-b36fd65fc762",
   "metadata": {},
   "outputs": [
    {
     "data": {
      "text/html": [
       "<div>\n",
       "<style scoped>\n",
       "    .dataframe tbody tr th:only-of-type {\n",
       "        vertical-align: middle;\n",
       "    }\n",
       "\n",
       "    .dataframe tbody tr th {\n",
       "        vertical-align: top;\n",
       "    }\n",
       "\n",
       "    .dataframe thead th {\n",
       "        text-align: right;\n",
       "    }\n",
       "</style>\n",
       "<table border=\"1\" class=\"dataframe\">\n",
       "  <thead>\n",
       "    <tr style=\"text-align: right;\">\n",
       "      <th></th>\n",
       "      <th>name</th>\n",
       "      <th>description</th>\n",
       "      <th>cuisine</th>\n",
       "      <th>course</th>\n",
       "      <th>diet</th>\n",
       "      <th>prep_time</th>\n",
       "      <th>ingredients</th>\n",
       "      <th>instructions</th>\n",
       "      <th>cleaned_ingredients</th>\n",
       "      <th>categorized_prep_time</th>\n",
       "      <th>allergens</th>\n",
       "      <th>processed_name</th>\n",
       "      <th>processed_instructions</th>\n",
       "      <th>processed_description</th>\n",
       "      <th>allergen_type</th>\n",
       "    </tr>\n",
       "  </thead>\n",
       "  <tbody>\n",
       "    <tr>\n",
       "      <th>0</th>\n",
       "      <td>Doddapatre Tambuli Recipe (Karpooravalli Thayi...</td>\n",
       "      <td>Doddapatre Tambuli Recipe is a popular healing...</td>\n",
       "      <td>Indian</td>\n",
       "      <td>Side Dish</td>\n",
       "      <td>Vegetarian</td>\n",
       "      <td>30.0</td>\n",
       "      <td>4 cups Indian borage (Doddapatre) , cleaned an...</td>\n",
       "      <td>To begin making the Doddapatre Tambuli, first ...</td>\n",
       "      <td>[indian borage doddapatre, curd dahi   yogurt,...</td>\n",
       "      <td>~30 min</td>\n",
       "      <td>[yogurt]</td>\n",
       "      <td>Doddapatre Tambuli Recipe Karpooravalli Thayir...</td>\n",
       "      <td>begin make Doddapatre Tambuli first thoroughly...</td>\n",
       "      <td>Doddapatre Tambuli Recipe popular healing nour...</td>\n",
       "      <td>[Dairy]</td>\n",
       "    </tr>\n",
       "    <tr>\n",
       "      <th>1</th>\n",
       "      <td>Fish Tandoori Recipe</td>\n",
       "      <td>Have you ever tried out fish tandoori? Trust m...</td>\n",
       "      <td>North Indian</td>\n",
       "      <td>Appetizer</td>\n",
       "      <td>High Protein Non Vegetarian</td>\n",
       "      <td>80.0</td>\n",
       "      <td>1 Fish , nicely washed with bones on (I used P...</td>\n",
       "      <td>To begin making the Fish Tandoori recipe, keep...</td>\n",
       "      <td>[fish, curd dahi   yogurt, onion, green chilli...</td>\n",
       "      <td>~1 hour 30 min</td>\n",
       "      <td>[fish]</td>\n",
       "      <td>Fish Tandoori Recipe</td>\n",
       "      <td>begin make fish Tandoori recipe keep head tail...</td>\n",
       "      <td>ever try fish tandoori trust equally delicious...</td>\n",
       "      <td>[Fish and Shellfish]</td>\n",
       "    </tr>\n",
       "    <tr>\n",
       "      <th>2</th>\n",
       "      <td>Arbi Shimla Mirch Sabzi Recipe – Colocasia Cap...</td>\n",
       "      <td>Arbi Shimla Mirch Sabzi Recipe is a variation ...</td>\n",
       "      <td>North Indian</td>\n",
       "      <td>Main Course</td>\n",
       "      <td>No Onion No Garlic (Sattvic)</td>\n",
       "      <td>55.0</td>\n",
       "      <td>300 grams Colocasia root (Arbi)  1 Green Bell ...</td>\n",
       "      <td>To begin making the Arbi Shimla Mirch Sabzi Re...</td>\n",
       "      <td>[colocasia root arbi, green bell pepper capsic...</td>\n",
       "      <td>~1 hour</td>\n",
       "      <td>[peanut]</td>\n",
       "      <td>Arbi Shimla Mirch Sabzi Recipe Colocasia Capsi...</td>\n",
       "      <td>begin make Arbi Shimla Mirch Sabzi Recipe firs...</td>\n",
       "      <td>Arbi Shimla Mirch Sabzi Recipe variation aloo ...</td>\n",
       "      <td>[Tree Nuts and Peanuts, Legumes and Seeds]</td>\n",
       "    </tr>\n",
       "    <tr>\n",
       "      <th>3</th>\n",
       "      <td>Ambur Style Brinjal Curry Recipe</td>\n",
       "      <td>Brinjal Curry is prepared in different ways in...</td>\n",
       "      <td>Indian</td>\n",
       "      <td>Lunch</td>\n",
       "      <td>Vegetarian</td>\n",
       "      <td>20.0</td>\n",
       "      <td>5 Brinjal (Baingan / Eggplant)  1 Onion  2 Tom...</td>\n",
       "      <td>To begin making the Ambur Style Brinjal Curry ...</td>\n",
       "      <td>[brinjal baingan   eggplant, onion, ginger gar...</td>\n",
       "      <td>~30 min</td>\n",
       "      <td>[sesame, mustard, peanut]</td>\n",
       "      <td>Ambur Style Brinjal Curry Recipe</td>\n",
       "      <td>begin make Ambur Style Brinjal Curry Recipe ad...</td>\n",
       "      <td>Brinjal Curry prepare different way different ...</td>\n",
       "      <td>[Legumes and Seeds, Tree Nuts and Peanuts]</td>\n",
       "    </tr>\n",
       "    <tr>\n",
       "      <th>4</th>\n",
       "      <td>Mavinakayi Menasinakai Curry Recipe  - Raw Man...</td>\n",
       "      <td>Mangalorean Mavinakayi Menasinakai Curry Recip...</td>\n",
       "      <td>Mangalorean</td>\n",
       "      <td>Side Dish</td>\n",
       "      <td>Vegetarian</td>\n",
       "      <td>35.0</td>\n",
       "      <td>1 cup Mango (Raw) , diced  2 tablespoons Jagge...</td>\n",
       "      <td>To begin making Mangalorean Mavinakayi Menasin...</td>\n",
       "      <td>[mango, jaggery, turmeric powder, tamarind wat...</td>\n",
       "      <td>~45 min</td>\n",
       "      <td>[sesame]</td>\n",
       "      <td>mavinakayi Menasinakai Curry Recipe Raw Mango ...</td>\n",
       "      <td>begin make Mangalorean Mavinakayi Menasinakai ...</td>\n",
       "      <td>Mangalorean Mavinakayi Menasinakai Curry Recip...</td>\n",
       "      <td>[Legumes and Seeds]</td>\n",
       "    </tr>\n",
       "    <tr>\n",
       "      <th>...</th>\n",
       "      <td>...</td>\n",
       "      <td>...</td>\n",
       "      <td>...</td>\n",
       "      <td>...</td>\n",
       "      <td>...</td>\n",
       "      <td>...</td>\n",
       "      <td>...</td>\n",
       "      <td>...</td>\n",
       "      <td>...</td>\n",
       "      <td>...</td>\n",
       "      <td>...</td>\n",
       "      <td>...</td>\n",
       "      <td>...</td>\n",
       "      <td>...</td>\n",
       "      <td>...</td>\n",
       "    </tr>\n",
       "    <tr>\n",
       "      <th>9491</th>\n",
       "      <td>Spinach Oats Vada Recipe</td>\n",
       "      <td>Spinach Oats Vada Recipe is a healthy twist to...</td>\n",
       "      <td>South Indian</td>\n",
       "      <td>Snack</td>\n",
       "      <td>Vegetarian</td>\n",
       "      <td>50.0</td>\n",
       "      <td>Spinach Leaves (Palak), Chana dal (Bengal Gram...</td>\n",
       "      <td>To prepare Spinach Oats Vada Recipe, in a larg...</td>\n",
       "      <td>[spinach leave palak, chana dal bengal gram da...</td>\n",
       "      <td>~1 hour</td>\n",
       "      <td>unknown</td>\n",
       "      <td>Spinach Oats Vada Recipe</td>\n",
       "      <td>prepare Spinach Oats Vada Recipe large mixing ...</td>\n",
       "      <td>Spinach Oats Vada Recipe healthy twist otherwi...</td>\n",
       "      <td>Unknown</td>\n",
       "    </tr>\n",
       "    <tr>\n",
       "      <th>9492</th>\n",
       "      <td>Kerala Style Vettu Cake Recipe (Eggless Wholew...</td>\n",
       "      <td>Vettu cake is a famous tea shop snack in Tamil...</td>\n",
       "      <td>Kerala</td>\n",
       "      <td>Snack</td>\n",
       "      <td>Vegetarian</td>\n",
       "      <td>65.0</td>\n",
       "      <td>Whole Wheat Flour, Sugar, Cooking soda, Butter...</td>\n",
       "      <td>To prepare Kerala Style Vettu Cake Recipe (Egg...</td>\n",
       "      <td>[whole wheat flour, sugar, cook soda, butter s...</td>\n",
       "      <td>~1 hour 15 min</td>\n",
       "      <td>[milk, wheat, egg, butter]</td>\n",
       "      <td>Kerala Style Vettu Cake Recipe eggless Wholewh...</td>\n",
       "      <td>prepare Kerala Style Vettu Cake Recipe eggless...</td>\n",
       "      <td>vettu cake famous tea shop snack Tamil Nadu Ke...</td>\n",
       "      <td>[Dairy, Grains and Gluten, Eggs]</td>\n",
       "    </tr>\n",
       "    <tr>\n",
       "      <th>9493</th>\n",
       "      <td>Amla/Nellikai Thogayal Recipe (Gooseberry Chut...</td>\n",
       "      <td>The Gooseberry (Amla/Nellikai) Chutney recipe ...</td>\n",
       "      <td>South Indian</td>\n",
       "      <td>Side Dish</td>\n",
       "      <td>Vegetarian</td>\n",
       "      <td>25.0</td>\n",
       "      <td>Amla (Nellikai/ Gooseberry), Fresh coconut, Me...</td>\n",
       "      <td>To begin making the Amla Thogayal, we will fir...</td>\n",
       "      <td>[amla nellikai gooseberry, fresh coconut, meth...</td>\n",
       "      <td>~30 min</td>\n",
       "      <td>unknown</td>\n",
       "      <td>Amla Nellikai Thogayal Recipe Gooseberry Chutney</td>\n",
       "      <td>begin make Amla Thogayal first deseed gooseber...</td>\n",
       "      <td>Gooseberry Amla Nellikai chutney recipe also k...</td>\n",
       "      <td>Unknown</td>\n",
       "    </tr>\n",
       "    <tr>\n",
       "      <th>9494</th>\n",
       "      <td>Kanchakalar Khosha Bata | A Traditional Bengal...</td>\n",
       "      <td>Kanchakalar Khosha Bata is a traditional Benga...</td>\n",
       "      <td>Bengali</td>\n",
       "      <td>Side Dish</td>\n",
       "      <td>Vegetarian</td>\n",
       "      <td>30.0</td>\n",
       "      <td>Raw Banana, Garlic, Green Chilli, Salt, Mustar...</td>\n",
       "      <td>To begin the preparation of Kanchakalar Khosha...</td>\n",
       "      <td>[raw banana, garlic, green chilli, salt, musta...</td>\n",
       "      <td>~30 min</td>\n",
       "      <td>[mustard]</td>\n",
       "      <td>Kanchakalar Khosha Bata Traditional Bengali Ra...</td>\n",
       "      <td>begin preparation Kanchakalar Khosha Bata pres...</td>\n",
       "      <td>Kanchakalar Khosha Bata traditional Bengali di...</td>\n",
       "      <td>[Legumes and Seeds]</td>\n",
       "    </tr>\n",
       "    <tr>\n",
       "      <th>9495</th>\n",
       "      <td>Tomato Onion Chutney Recipe With Coconut And Mint</td>\n",
       "      <td>Tomato Onion Chutney Recipe With Coconut And M...</td>\n",
       "      <td>South Indian</td>\n",
       "      <td>Side Dish</td>\n",
       "      <td>Vegetarian</td>\n",
       "      <td>15.0</td>\n",
       "      <td>Onions, Tomatoes, Green Chillies, Mint Leaves ...</td>\n",
       "      <td>To begin making the Tomato Onion Chutney Recip...</td>\n",
       "      <td>[onion, tomatoe, green chilli, mint leave pudi...</td>\n",
       "      <td>~15 min</td>\n",
       "      <td>[mustard]</td>\n",
       "      <td>Tomato Onion Chutney Recipe Coconut Mint</td>\n",
       "      <td>begin make Tomato Onion Chutney Recipe Coconut...</td>\n",
       "      <td>Tomato Onion Chutney Recipe Coconut Mint make ...</td>\n",
       "      <td>[Legumes and Seeds]</td>\n",
       "    </tr>\n",
       "  </tbody>\n",
       "</table>\n",
       "<p>9496 rows × 15 columns</p>\n",
       "</div>"
      ],
      "text/plain": [
       "                                                   name  \\\n",
       "0     Doddapatre Tambuli Recipe (Karpooravalli Thayi...   \n",
       "1                                  Fish Tandoori Recipe   \n",
       "2     Arbi Shimla Mirch Sabzi Recipe – Colocasia Cap...   \n",
       "3                      Ambur Style Brinjal Curry Recipe   \n",
       "4     Mavinakayi Menasinakai Curry Recipe  - Raw Man...   \n",
       "...                                                 ...   \n",
       "9491                           Spinach Oats Vada Recipe   \n",
       "9492  Kerala Style Vettu Cake Recipe (Eggless Wholew...   \n",
       "9493  Amla/Nellikai Thogayal Recipe (Gooseberry Chut...   \n",
       "9494  Kanchakalar Khosha Bata | A Traditional Bengal...   \n",
       "9495  Tomato Onion Chutney Recipe With Coconut And Mint   \n",
       "\n",
       "                                            description       cuisine  \\\n",
       "0     Doddapatre Tambuli Recipe is a popular healing...        Indian   \n",
       "1     Have you ever tried out fish tandoori? Trust m...  North Indian   \n",
       "2     Arbi Shimla Mirch Sabzi Recipe is a variation ...  North Indian   \n",
       "3     Brinjal Curry is prepared in different ways in...        Indian   \n",
       "4     Mangalorean Mavinakayi Menasinakai Curry Recip...   Mangalorean   \n",
       "...                                                 ...           ...   \n",
       "9491  Spinach Oats Vada Recipe is a healthy twist to...  South Indian   \n",
       "9492  Vettu cake is a famous tea shop snack in Tamil...        Kerala   \n",
       "9493  The Gooseberry (Amla/Nellikai) Chutney recipe ...  South Indian   \n",
       "9494  Kanchakalar Khosha Bata is a traditional Benga...       Bengali   \n",
       "9495  Tomato Onion Chutney Recipe With Coconut And M...  South Indian   \n",
       "\n",
       "           course                          diet  prep_time  \\\n",
       "0       Side Dish                    Vegetarian       30.0   \n",
       "1       Appetizer   High Protein Non Vegetarian       80.0   \n",
       "2     Main Course  No Onion No Garlic (Sattvic)       55.0   \n",
       "3           Lunch                    Vegetarian       20.0   \n",
       "4       Side Dish                    Vegetarian       35.0   \n",
       "...           ...                           ...        ...   \n",
       "9491        Snack                    Vegetarian       50.0   \n",
       "9492        Snack                    Vegetarian       65.0   \n",
       "9493    Side Dish                    Vegetarian       25.0   \n",
       "9494    Side Dish                    Vegetarian       30.0   \n",
       "9495    Side Dish                    Vegetarian       15.0   \n",
       "\n",
       "                                            ingredients  \\\n",
       "0     4 cups Indian borage (Doddapatre) , cleaned an...   \n",
       "1     1 Fish , nicely washed with bones on (I used P...   \n",
       "2     300 grams Colocasia root (Arbi)  1 Green Bell ...   \n",
       "3     5 Brinjal (Baingan / Eggplant)  1 Onion  2 Tom...   \n",
       "4     1 cup Mango (Raw) , diced  2 tablespoons Jagge...   \n",
       "...                                                 ...   \n",
       "9491  Spinach Leaves (Palak), Chana dal (Bengal Gram...   \n",
       "9492  Whole Wheat Flour, Sugar, Cooking soda, Butter...   \n",
       "9493  Amla (Nellikai/ Gooseberry), Fresh coconut, Me...   \n",
       "9494  Raw Banana, Garlic, Green Chilli, Salt, Mustar...   \n",
       "9495  Onions, Tomatoes, Green Chillies, Mint Leaves ...   \n",
       "\n",
       "                                           instructions  \\\n",
       "0     To begin making the Doddapatre Tambuli, first ...   \n",
       "1     To begin making the Fish Tandoori recipe, keep...   \n",
       "2     To begin making the Arbi Shimla Mirch Sabzi Re...   \n",
       "3     To begin making the Ambur Style Brinjal Curry ...   \n",
       "4     To begin making Mangalorean Mavinakayi Menasin...   \n",
       "...                                                 ...   \n",
       "9491  To prepare Spinach Oats Vada Recipe, in a larg...   \n",
       "9492  To prepare Kerala Style Vettu Cake Recipe (Egg...   \n",
       "9493  To begin making the Amla Thogayal, we will fir...   \n",
       "9494  To begin the preparation of Kanchakalar Khosha...   \n",
       "9495  To begin making the Tomato Onion Chutney Recip...   \n",
       "\n",
       "                                    cleaned_ingredients categorized_prep_time  \\\n",
       "0     [indian borage doddapatre, curd dahi   yogurt,...               ~30 min   \n",
       "1     [fish, curd dahi   yogurt, onion, green chilli...        ~1 hour 30 min   \n",
       "2     [colocasia root arbi, green bell pepper capsic...               ~1 hour   \n",
       "3     [brinjal baingan   eggplant, onion, ginger gar...               ~30 min   \n",
       "4     [mango, jaggery, turmeric powder, tamarind wat...               ~45 min   \n",
       "...                                                 ...                   ...   \n",
       "9491  [spinach leave palak, chana dal bengal gram da...               ~1 hour   \n",
       "9492  [whole wheat flour, sugar, cook soda, butter s...        ~1 hour 15 min   \n",
       "9493  [amla nellikai gooseberry, fresh coconut, meth...               ~30 min   \n",
       "9494  [raw banana, garlic, green chilli, salt, musta...               ~30 min   \n",
       "9495  [onion, tomatoe, green chilli, mint leave pudi...               ~15 min   \n",
       "\n",
       "                       allergens  \\\n",
       "0                       [yogurt]   \n",
       "1                         [fish]   \n",
       "2                       [peanut]   \n",
       "3      [sesame, mustard, peanut]   \n",
       "4                       [sesame]   \n",
       "...                          ...   \n",
       "9491                     unknown   \n",
       "9492  [milk, wheat, egg, butter]   \n",
       "9493                     unknown   \n",
       "9494                   [mustard]   \n",
       "9495                   [mustard]   \n",
       "\n",
       "                                         processed_name  \\\n",
       "0     Doddapatre Tambuli Recipe Karpooravalli Thayir...   \n",
       "1                                  Fish Tandoori Recipe   \n",
       "2     Arbi Shimla Mirch Sabzi Recipe Colocasia Capsi...   \n",
       "3                      Ambur Style Brinjal Curry Recipe   \n",
       "4     mavinakayi Menasinakai Curry Recipe Raw Mango ...   \n",
       "...                                                 ...   \n",
       "9491                           Spinach Oats Vada Recipe   \n",
       "9492  Kerala Style Vettu Cake Recipe eggless Wholewh...   \n",
       "9493   Amla Nellikai Thogayal Recipe Gooseberry Chutney   \n",
       "9494  Kanchakalar Khosha Bata Traditional Bengali Ra...   \n",
       "9495           Tomato Onion Chutney Recipe Coconut Mint   \n",
       "\n",
       "                                 processed_instructions  \\\n",
       "0     begin make Doddapatre Tambuli first thoroughly...   \n",
       "1     begin make fish Tandoori recipe keep head tail...   \n",
       "2     begin make Arbi Shimla Mirch Sabzi Recipe firs...   \n",
       "3     begin make Ambur Style Brinjal Curry Recipe ad...   \n",
       "4     begin make Mangalorean Mavinakayi Menasinakai ...   \n",
       "...                                                 ...   \n",
       "9491  prepare Spinach Oats Vada Recipe large mixing ...   \n",
       "9492  prepare Kerala Style Vettu Cake Recipe eggless...   \n",
       "9493  begin make Amla Thogayal first deseed gooseber...   \n",
       "9494  begin preparation Kanchakalar Khosha Bata pres...   \n",
       "9495  begin make Tomato Onion Chutney Recipe Coconut...   \n",
       "\n",
       "                                  processed_description  \\\n",
       "0     Doddapatre Tambuli Recipe popular healing nour...   \n",
       "1     ever try fish tandoori trust equally delicious...   \n",
       "2     Arbi Shimla Mirch Sabzi Recipe variation aloo ...   \n",
       "3     Brinjal Curry prepare different way different ...   \n",
       "4     Mangalorean Mavinakayi Menasinakai Curry Recip...   \n",
       "...                                                 ...   \n",
       "9491  Spinach Oats Vada Recipe healthy twist otherwi...   \n",
       "9492  vettu cake famous tea shop snack Tamil Nadu Ke...   \n",
       "9493  Gooseberry Amla Nellikai chutney recipe also k...   \n",
       "9494  Kanchakalar Khosha Bata traditional Bengali di...   \n",
       "9495  Tomato Onion Chutney Recipe Coconut Mint make ...   \n",
       "\n",
       "                                   allergen_type  \n",
       "0                                        [Dairy]  \n",
       "1                           [Fish and Shellfish]  \n",
       "2     [Tree Nuts and Peanuts, Legumes and Seeds]  \n",
       "3     [Legumes and Seeds, Tree Nuts and Peanuts]  \n",
       "4                            [Legumes and Seeds]  \n",
       "...                                          ...  \n",
       "9491                                     Unknown  \n",
       "9492            [Dairy, Grains and Gluten, Eggs]  \n",
       "9493                                     Unknown  \n",
       "9494                         [Legumes and Seeds]  \n",
       "9495                         [Legumes and Seeds]  \n",
       "\n",
       "[9496 rows x 15 columns]"
      ]
     },
     "execution_count": 2,
     "metadata": {},
     "output_type": "execute_result"
    }
   ],
   "source": [
    "recom_df = pd.read_pickle(\"data/recommendation_recipes.pkl\")\n",
    "recom_df"
   ]
  },
  {
   "cell_type": "code",
   "execution_count": 3,
   "id": "db0ec624",
   "metadata": {},
   "outputs": [
    {
     "name": "stdout",
     "output_type": "stream",
     "text": [
      "<class 'pandas.core.frame.DataFrame'>\n",
      "RangeIndex: 9496 entries, 0 to 9495\n",
      "Data columns (total 15 columns):\n",
      " #   Column                  Non-Null Count  Dtype  \n",
      "---  ------                  --------------  -----  \n",
      " 0   name                    9496 non-null   object \n",
      " 1   description             9496 non-null   object \n",
      " 2   cuisine                 9488 non-null   object \n",
      " 3   course                  9462 non-null   object \n",
      " 4   diet                    9462 non-null   object \n",
      " 5   prep_time               9487 non-null   float64\n",
      " 6   ingredients             9496 non-null   object \n",
      " 7   instructions            9496 non-null   object \n",
      " 8   cleaned_ingredients     9496 non-null   object \n",
      " 9   categorized_prep_time   9496 non-null   object \n",
      " 10  allergens               9496 non-null   object \n",
      " 11  processed_name          9496 non-null   object \n",
      " 12  processed_instructions  9496 non-null   object \n",
      " 13  processed_description   9496 non-null   object \n",
      " 14  allergen_type           9496 non-null   object \n",
      "dtypes: float64(1), object(14)\n",
      "memory usage: 1.1+ MB\n"
     ]
    }
   ],
   "source": [
    "recom_df.info()"
   ]
  },
  {
   "cell_type": "code",
   "execution_count": 4,
   "id": "89338b81-4599-4c8e-b45c-5764b72a47de",
   "metadata": {},
   "outputs": [],
   "source": [
    "from sklearn.decomposition import NMF\n",
    "from sklearn.feature_extraction.text import TfidfVectorizer\n",
    "from sklearn.metrics.pairwise import cosine_similarity\n",
    "\n",
    "# Convert each list in the 'cleaned_ingredient' column to a space-separated string to standardize the form of all precocessed colmuns. \n",
    "recom_df[\"processed_ingredients\"] = recom_df['cleaned_ingredients'].apply(lambda x: ' '.join(x) if isinstance(x, list) else x)\n",
    "\n",
    "# Combine all processed columns into a single column for topic modeling\n",
    "recom_df['combined_context'] = recom_df['processed_name'] + ' ' + recom_df['processed_ingredients'] + ' ' + recom_df['processed_description'] + ' ' + recom_df['processed_instructions']\n",
    "\n",
    "\n",
    "tfidf_vectorizer = TfidfVectorizer()\n",
    "\n",
    "tfidf_combined_matrix = tfidf_vectorizer.fit_transform(recom_df['combined_context'])\n",
    "\n",
    "\n",
    "# Define number of topics (adjust based on experimentation)\n",
    "n_topics = 9\n",
    "\n",
    "nmf_model = NMF(n_components=n_topics, random_state=42)\n",
    "topic_matrix = nmf_model.fit_transform(tfidf_combined_matrix) # Topic distribution for each recipe\n",
    "\n",
    "# Add topic distributions to recom_df\n",
    "for i in range(n_topics):\n",
    "    recom_df[f'topic_{i}'] = topic_matrix[:, i]\n",
    "\n",
    "def get_recommendations(dish_name, df, num_recommendations=5):\n",
    "    # Find the index of the given dish name\n",
    "    recipe_index = df[df['processed_name'].str.contains(dish_name, case=False, na=False)].index\n",
    "    if not recipe_index.any():\n",
    "        print(\"Dish not found.\")\n",
    "        return None\n",
    "    \n",
    "    recipe_index = recipe_index[0]  # Get the first match if there are multiple\n",
    "    \n",
    "    # Calculate cosine similarity for the topics\n",
    "    cosine_similarities = cosine_similarity(topic_matrix )\n",
    "    similar_indices = cosine_similarities[recipe_index].argsort()[-num_recommendations-1:-1][::-1]\n",
    "    \n",
    "    # Get the recommended recipes\n",
    "    recommended_recipes = df.iloc[similar_indices]\n",
    "    return recommended_recipes[['name', 'cuisine', 'course', 'diet', 'categorized_prep_time', 'allergen_type']]"
   ]
  },
  {
   "cell_type": "code",
   "execution_count": 5,
   "id": "0d9f1453",
   "metadata": {},
   "outputs": [
    {
     "data": {
      "text/plain": [
       "0       Doddapatre Tambuli Recipe Karpooravalli Thayir...\n",
       "1       Fish Tandoori Recipe fish curd dahi   yogurt o...\n",
       "2       Arbi Shimla Mirch Sabzi Recipe Colocasia Capsi...\n",
       "3       Ambur Style Brinjal Curry Recipe brinjal baing...\n",
       "4       mavinakayi Menasinakai Curry Recipe Raw Mango ...\n",
       "                              ...                        \n",
       "9491    Spinach Oats Vada Recipe spinach leave palak c...\n",
       "9492    Kerala Style Vettu Cake Recipe eggless Wholewh...\n",
       "9493    Amla Nellikai Thogayal Recipe Gooseberry Chutn...\n",
       "9494    Kanchakalar Khosha Bata Traditional Bengali Ra...\n",
       "9495    Tomato Onion Chutney Recipe Coconut Mint onion...\n",
       "Name: combined_context, Length: 9496, dtype: object"
      ]
     },
     "execution_count": 5,
     "metadata": {},
     "output_type": "execute_result"
    }
   ],
   "source": [
    "recom_df['combined_context']"
   ]
  },
  {
   "cell_type": "code",
   "execution_count": 6,
   "id": "21779dc7",
   "metadata": {},
   "outputs": [
    {
     "data": {
      "text/plain": [
       "0       Doddapatre Tambuli Recipe Karpooravalli Thayir...\n",
       "1                                    Fish Tandoori Recipe\n",
       "2       Arbi Shimla Mirch Sabzi Recipe Colocasia Capsi...\n",
       "3                        Ambur Style Brinjal Curry Recipe\n",
       "4       mavinakayi Menasinakai Curry Recipe Raw Mango ...\n",
       "                              ...                        \n",
       "9491                             Spinach Oats Vada Recipe\n",
       "9492    Kerala Style Vettu Cake Recipe eggless Wholewh...\n",
       "9493     Amla Nellikai Thogayal Recipe Gooseberry Chutney\n",
       "9494    Kanchakalar Khosha Bata Traditional Bengali Ra...\n",
       "9495             Tomato Onion Chutney Recipe Coconut Mint\n",
       "Name: processed_name, Length: 9496, dtype: object"
      ]
     },
     "execution_count": 6,
     "metadata": {},
     "output_type": "execute_result"
    }
   ],
   "source": [
    "recom_df['processed_name']"
   ]
  },
  {
   "cell_type": "code",
   "execution_count": 7,
   "id": "8445711b",
   "metadata": {},
   "outputs": [
    {
     "data": {
      "text/plain": [
       "0       indian borage doddapatre curd dahi   yogurt cu...\n",
       "1       fish curd dahi   yogurt onion green chilli tan...\n",
       "2       colocasia root arbi green bell pepper capsicum...\n",
       "3       brinjal baingan   eggplant onion ginger garlic...\n",
       "4       mango jaggery turmeric powder tamarind water s...\n",
       "                              ...                        \n",
       "9491    spinach leave palak chana dal bengal gram dal ...\n",
       "9492    whole wheat flour sugar cook soda butter salt ...\n",
       "9493    amla nellikai gooseberry fresh coconut methi s...\n",
       "9494    raw banana garlic green chilli salt mustard oi...\n",
       "9495    onion tomatoe green chilli mint leave pudina f...\n",
       "Name: processed_ingredients, Length: 9496, dtype: object"
      ]
     },
     "execution_count": 7,
     "metadata": {},
     "output_type": "execute_result"
    }
   ],
   "source": [
    "recom_df[\"processed_ingredients\"] "
   ]
  },
  {
   "cell_type": "code",
   "execution_count": 8,
   "id": "bed3a1ce-133b-4b03-8ad6-05874bceccab",
   "metadata": {},
   "outputs": [
    {
     "name": "stdout",
     "output_type": "stream",
     "text": [
      "                                                   name       cuisine  \\\n",
      "4004                   Ambur Style Brinjal Curry Recipe        Indian   \n",
      "3681  Chettinad Kathirikai Chops Recipe - Brinjal Cu...     Chettinad   \n",
      "7997        Tamatar Gosht Recipe-Mutton In Tomato Curry  North Indian   \n",
      "1836    Attirachi Kuzhambu Recipe - Spicy Mutton Gravy   South Indian   \n",
      "2283        Tamatar Gosht Recipe-Mutton In Tomato Curry  North Indian   \n",
      "\n",
      "           course            diet categorized_prep_time  \\\n",
      "4004        Lunch      Vegetarian               ~30 min   \n",
      "3681  Main Course      Vegetarian               ~45 min   \n",
      "7997       Dinner  Non Vegeterian               ~1 hour   \n",
      "1836        Lunch  Non Vegeterian               ~45 min   \n",
      "2283       Dinner  Non Vegeterian               ~1 hour   \n",
      "\n",
      "                                   allergen_type  \n",
      "4004  [Legumes and Seeds, Tree Nuts and Peanuts]  \n",
      "3681  [Legumes and Seeds, Tree Nuts and Peanuts]  \n",
      "7997                                     Unknown  \n",
      "1836                         [Legumes and Seeds]  \n",
      "2283                                     Unknown  \n"
     ]
    }
   ],
   "source": [
    "# Define a function to filter based on user preferences\n",
    "def filter_recipes(df, cuisine=None, course=None, diet=None, prep_time=None, allergen_type=None):\n",
    "    filtered_df = df\n",
    "    if cuisine:\n",
    "        filtered_df = filtered_df[filtered_df['cuisine'] == cuisine]\n",
    "    if course:\n",
    "        filtered_df = filtered_df[filtered_df['course'] == course]\n",
    "    if diet:\n",
    "        filtered_df = filtered_df[filtered_df['diet'] == diet]\n",
    "    if prep_time:\n",
    "        filtered_df = filtered_df[filtered_df['categorized_prep_time'] == prep_time]\n",
    "    if allergen_type:\n",
    "        # Exclude recipes with allergens in user preference\n",
    "        filtered_df = filtered_df[~filtered_df['allergen_type'].apply(lambda x: bool(set(x) & set(allergen_type)))]\n",
    "    return filtered_df\n",
    "\n",
    "##apply(lambda x: \"Grains and Gluten\" in x)\n",
    "# Example \n",
    "recommended_recipes = get_recommendations(\"brinjal\", recom_df)  \n",
    "if recommended_recipes is not None:\n",
    "    filtered_recommendations = filter_recipes(recommended_recipes)\n",
    "    print(filtered_recommendations)"
   ]
  },
  {
   "cell_type": "code",
   "execution_count": 9,
   "id": "21e43396-58f5-4ab5-9999-f3ae7bcca26c",
   "metadata": {},
   "outputs": [
    {
     "data": {
      "text/plain": [
       "name                      Jeera Rice Recipe | Jeera Pulao | Cumin Flavou...\n",
       "description               The Jeera Rice (Pulao) Recipe is simple rice r...\n",
       "cuisine                                                              Indian\n",
       "course                                                                Lunch\n",
       "diet                                                             Vegetarian\n",
       "prep_time                                                              30.0\n",
       "ingredients               Seeraga (Jeeraga) Samba rice, Cumin seeds (Jee...\n",
       "instructions              To begin making the\\xa0Jeera Rice Recipe, firs...\n",
       "cleaned_ingredients       [seeraga jeeraga samba rice, cumin seed jeera,...\n",
       "categorized_prep_time                                               ~30 min\n",
       "allergens                                                           unknown\n",
       "processed_name            Jeera Rice Recipe Jeera Pulao Cumin Flavoured ...\n",
       "processed_instructions    begin make Rice Recipe first rinse rice well w...\n",
       "processed_description     Jeera Rice Pulao Recipe simple rice recipe mak...\n",
       "allergen_type                                                       Unknown\n",
       "processed_ingredients     seeraga jeeraga samba rice cumin seed jeera ca...\n",
       "combined_context          Jeera Rice Recipe Jeera Pulao Cumin Flavoured ...\n",
       "topic_0                                                            0.050075\n",
       "topic_1                                                            0.001411\n",
       "topic_2                                                                 0.0\n",
       "topic_3                                                            0.021859\n",
       "topic_4                                                                 0.0\n",
       "topic_5                                                            0.036147\n",
       "topic_6                                                            0.007797\n",
       "topic_7                                                                 0.0\n",
       "topic_8                                                             0.00001\n",
       "Name: 3608, dtype: object"
      ]
     },
     "execution_count": 9,
     "metadata": {},
     "output_type": "execute_result"
    }
   ],
   "source": [
    "recom_df.iloc[3608]"
   ]
  },
  {
   "cell_type": "code",
   "execution_count": 10,
   "id": "bd71907f-c02c-4ff7-b7ec-bed4cae0002d",
   "metadata": {},
   "outputs": [],
   "source": [
    "#pip install gensim"
   ]
  },
  {
   "cell_type": "code",
   "execution_count": 11,
   "id": "e47274d8-8ba6-47b5-926b-f5980800729b",
   "metadata": {},
   "outputs": [
    {
     "name": "stdout",
     "output_type": "stream",
     "text": [
      "Num Topics: 2, Coherence Score: 0.573655374295369\n",
      "Num Topics: 3, Coherence Score: 0.568506923559221\n",
      "Num Topics: 4, Coherence Score: 0.5454392688009377\n",
      "Num Topics: 5, Coherence Score: 0.5929184070563343\n",
      "Num Topics: 6, Coherence Score: 0.6276393816596851\n",
      "Num Topics: 7, Coherence Score: 0.6414563265983393\n",
      "Num Topics: 8, Coherence Score: 0.6521364294171816\n",
      "Num Topics: 9, Coherence Score: 0.6562001777799372\n"
     ]
    },
    {
     "name": "stderr",
     "output_type": "stream",
     "text": [
      "c:\\Users\\rogha\\anaconda3\\envs\\Tasty_AI\\lib\\site-packages\\sklearn\\decomposition\\_nmf.py:1759: ConvergenceWarning: Maximum number of iterations 200 reached. Increase it to improve convergence.\n",
      "  warnings.warn(\n",
      "c:\\Users\\rogha\\anaconda3\\envs\\Tasty_AI\\lib\\site-packages\\gensim\\topic_coherence\\direct_confirmation_measure.py:204: RuntimeWarning: divide by zero encountered in scalar divide\n",
      "  m_lr_i = np.log(numerator / denominator)\n",
      "c:\\Users\\rogha\\anaconda3\\envs\\Tasty_AI\\lib\\site-packages\\gensim\\topic_coherence\\indirect_confirmation_measure.py:323: RuntimeWarning: invalid value encountered in scalar divide\n",
      "  return cv1.T.dot(cv2)[0, 0] / (_magnitude(cv1) * _magnitude(cv2))\n"
     ]
    },
    {
     "name": "stdout",
     "output_type": "stream",
     "text": [
      "Num Topics: 10, Coherence Score: nan\n"
     ]
    },
    {
     "name": "stderr",
     "output_type": "stream",
     "text": [
      "c:\\Users\\rogha\\anaconda3\\envs\\Tasty_AI\\lib\\site-packages\\sklearn\\decomposition\\_nmf.py:1759: ConvergenceWarning: Maximum number of iterations 200 reached. Increase it to improve convergence.\n",
      "  warnings.warn(\n"
     ]
    },
    {
     "name": "stdout",
     "output_type": "stream",
     "text": [
      "Num Topics: 11, Coherence Score: nan\n"
     ]
    },
    {
     "name": "stderr",
     "output_type": "stream",
     "text": [
      "c:\\Users\\rogha\\anaconda3\\envs\\Tasty_AI\\lib\\site-packages\\gensim\\topic_coherence\\direct_confirmation_measure.py:204: RuntimeWarning: divide by zero encountered in scalar divide\n",
      "  m_lr_i = np.log(numerator / denominator)\n",
      "c:\\Users\\rogha\\anaconda3\\envs\\Tasty_AI\\lib\\site-packages\\gensim\\topic_coherence\\indirect_confirmation_measure.py:323: RuntimeWarning: invalid value encountered in scalar divide\n",
      "  return cv1.T.dot(cv2)[0, 0] / (_magnitude(cv1) * _magnitude(cv2))\n"
     ]
    },
    {
     "data": {
      "text/plain": [
       "<Figure size 1000x600 with 0 Axes>"
      ]
     },
     "metadata": {},
     "output_type": "display_data"
    },
    {
     "data": {
      "text/plain": [
       "<Figure size 1000x600 with 0 Axes>"
      ]
     },
     "metadata": {},
     "output_type": "display_data"
    },
    {
     "data": {
      "text/plain": [
       "<Figure size 1000x600 with 0 Axes>"
      ]
     },
     "metadata": {},
     "output_type": "display_data"
    },
    {
     "data": {
      "text/plain": [
       "<Figure size 1000x600 with 0 Axes>"
      ]
     },
     "metadata": {},
     "output_type": "display_data"
    },
    {
     "data": {
      "text/plain": [
       "<Figure size 1000x600 with 0 Axes>"
      ]
     },
     "metadata": {},
     "output_type": "display_data"
    },
    {
     "data": {
      "text/plain": [
       "<Figure size 1000x600 with 0 Axes>"
      ]
     },
     "metadata": {},
     "output_type": "display_data"
    },
    {
     "data": {
      "text/plain": [
       "<Figure size 1000x600 with 0 Axes>"
      ]
     },
     "metadata": {},
     "output_type": "display_data"
    },
    {
     "data": {
      "text/plain": [
       "<Figure size 1000x600 with 0 Axes>"
      ]
     },
     "metadata": {},
     "output_type": "display_data"
    },
    {
     "data": {
      "text/plain": [
       "<Figure size 1000x600 with 0 Axes>"
      ]
     },
     "metadata": {},
     "output_type": "display_data"
    },
    {
     "data": {
      "image/png": "[encoded data removed]",
      "text/plain": [
       "<Figure size 1000x600 with 1 Axes>"
      ]
     },
     "metadata": {},
     "output_type": "display_data"
    }
   ],
   "source": [
    "from gensim.models import CoherenceModel\n",
    "from sklearn.decomposition import NMF\n",
    "from sklearn.feature_extraction.text import TfidfVectorizer\n",
    "from gensim.models.coherencemodel import CoherenceModel\n",
    "from gensim.corpora import Dictionary\n",
    "import matplotlib.pyplot as plt\n",
    "\n",
    "def compute_coherence_scores(texts, vectorizer, num_topics_range):\n",
    "    coherence_scores = []\n",
    "    tfidf_matrix = vectorizer.fit_transform(texts)\n",
    "    for num_topics in num_topics_range:\n",
    "        nmf_model = NMF(n_components=num_topics, random_state=42)\n",
    "        topic_matrix = nmf_model.fit_transform(tfidf_matrix)\n",
    "        \n",
    "        # Get topics and compute coherence\n",
    "\n",
    "        topics = []\n",
    "        feature_names = vectorizer.get_feature_names_out()\n",
    "        for topic_idx, topic in enumerate(nmf_model.components_):\n",
    "            topic_words = [feature_names[i] for i in topic.argsort()[:-11:-1]]\n",
    "            topics.append(topic_words)\n",
    "\n",
    "        # Prepare data for coherence model\n",
    "        dictionary = Dictionary([topic_words for topic_words in topics])\n",
    "        corpus = [dictionary.doc2bow(text.split()) for text in texts]\n",
    "        \n",
    "        coherence_model = CoherenceModel(topics=topics, texts=[text.split() for text in texts], dictionary=dictionary, coherence='c_v')\n",
    "        coherence_score = coherence_model.get_coherence()\n",
    "        coherence_scores.append(coherence_score)\n",
    "        print(f\"Num Topics: {num_topics}, Coherence Score: {coherence_score}\")\n",
    "    \n",
    "        plt.figure(figsize=(10, 6))\n",
    "    plt.plot(num_topics_range, coherence_scores, marker='o', linestyle='-', color='b')\n",
    "    plt.xlabel(\"Number of Topics\")\n",
    "    plt.ylabel(\"Coherence Score\")\n",
    "    plt.title(\"Coherence Scores by Number of Topics\")\n",
    "    plt.show()\n",
    "    \n",
    "    return coherence_scores\n",
    "\n",
    "texts = recom_df['combined_context']  \n",
    "vectorizer = TfidfVectorizer()\n",
    "num_topics_range = range(2, 12,1)\n",
    "\n",
    "coherence_scores = compute_coherence_scores(texts, vectorizer, num_topics_range)"
   ]
  }
 ],
 "metadata": {
  "kernelspec": {
   "display_name": "Tasty_AI",
   "language": "python",
   "name": "python3"
  },
  "language_info": {
   "codemirror_mode": {
    "name": "ipython",
    "version": 3
   },
   "file_extension": ".py",
   "mimetype": "text/x-python",
   "name": "python",
   "nbconvert_exporter": "python",
   "pygments_lexer": "ipython3",
   "version": "3.9.20"
  }
 },
 "nbformat": 4,
 "nbformat_minor": 5
}
